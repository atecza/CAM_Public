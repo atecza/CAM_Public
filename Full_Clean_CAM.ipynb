{
 "cells": [
  {
   "cell_type": "markdown",
   "metadata": {},
   "source": [
    "### Hello!\n",
    "#### Welcome to our CAM jupyter notebook. The code here is designed to help individuals interested in quantitative comparison's of CAMs. "
   ]
  },
  {
   "cell_type": "markdown",
   "metadata": {},
   "source": [
    "# 1) Getting Data\n",
    "#### This section will pull data into jupyter notebook and load all the dependencies you will need."
   ]
  },
  {
   "cell_type": "code",
   "execution_count": 1,
   "metadata": {},
   "outputs": [],
   "source": [
    "import re\n",
    "import numpy as np\n",
    "import pandas as pd\n",
    "import os\n",
    "from os import walk\n",
    "import math\n",
    "\n",
    "import cv2 as cv\n",
    "import networkx as nx\n",
    "\n",
    "import chart_studio.plotly as py\n",
    "import plotly.offline as py\n",
    "import plotly.graph_objects as go\n",
    "import matplotlib.pyplot as plt\n",
    "#from Shapes import shapes\n",
    "#from Lines import lines\n"
   ]
  },
  {
   "cell_type": "markdown",
   "metadata": {},
   "source": [
    "### 1.A) Pulling Data from File\n",
    "Data shouls be stored according to the 'clean' format listed in data cleaning scripts"
   ]
  },
  {
   "cell_type": "code",
   "execution_count": 2,
   "metadata": {},
   "outputs": [],
   "source": [
    "#make sure your file path is in quotations\n",
    "my_filepath = 'Your filepath to data on local computer here'"
   ]
  },
  {
   "cell_type": "markdown",
   "metadata": {},
   "source": [
    "### 1.B) Create functions to generate a unique list of ids from file names"
   ]
  },
  {
   "cell_type": "code",
   "execution_count": 4,
   "metadata": {},
   "outputs": [],
   "source": [
    "#Function to get unique elements from a list\n",
    "def list_unique(list1): \n",
    "  \n",
    "    # intilize a null list \n",
    "    unique_list = [] \n",
    "      \n",
    "    # traverse for all elements \n",
    "    for x in list1: \n",
    "        # check if exists in unique_list or not \n",
    "        if x not in unique_list: \n",
    "            unique_list.append(x) \n",
    "            \n",
    "    return unique_list"
   ]
  },
  {
   "cell_type": "code",
   "execution_count": 5,
   "metadata": {},
   "outputs": [],
   "source": [
    "def make_id_list(my_file_path):\n",
    "\n",
    "    #pull all filenames in your data directory\n",
    "    _, _, filenames = next(walk(my_file_path))\n",
    "\n",
    "    #grab only the id from the filenames to feed to the function\n",
    "    id_list = []\n",
    "    for filename in filenames:\n",
    "        filename_split = filename.rsplit('_', 1)\n",
    "        id_list.append(filename_split[0])\n",
    "    \n",
    "    unique_id = list_unique(id_list) #drop duplicate ids, since they are the same for _blocks & _links\n",
    "        \n",
    "    \n",
    "    \n",
    "    return unique_id"
   ]
  },
  {
   "cell_type": "markdown",
   "metadata": {},
   "source": [
    "### 1.C) Apply the previous two functions to your file path"
   ]
  },
  {
   "cell_type": "code",
   "execution_count": 6,
   "metadata": {},
   "outputs": [],
   "source": [
    "# Get an id_list from your specific file path\n",
    "my_id_list = make_id_list(my_filepath)"
   ]
  },
  {
   "cell_type": "code",
   "execution_count": 7,
   "metadata": {},
   "outputs": [
    {
     "name": "stdout",
     "output_type": "stream",
     "text": [
      "The total number of cams = 159\n"
     ]
    }
   ],
   "source": [
    "#Look at total number of cams\n",
    "print(f'The total number of cams = {len(my_id_list)}')"
   ]
  },
  {
   "cell_type": "markdown",
   "metadata": {},
   "source": [
    "# 2) Building Network Graphs\n",
    "#### The following code will construct network objects that can be viewed and exported for visualizations"
   ]
  },
  {
   "cell_type": "markdown",
   "metadata": {},
   "source": [
    "### 2.A) Constructing A Single Graph\n",
    "#### Make sure code is running correctly before generating all network objects"
   ]
  },
  {
   "cell_type": "code",
   "execution_count": 8,
   "metadata": {},
   "outputs": [
    {
     "data": {
      "text/html": [
       "<div>\n",
       "<style scoped>\n",
       "    .dataframe tbody tr th:only-of-type {\n",
       "        vertical-align: middle;\n",
       "    }\n",
       "\n",
       "    .dataframe tbody tr th {\n",
       "        vertical-align: top;\n",
       "    }\n",
       "\n",
       "    .dataframe thead th {\n",
       "        text-align: right;\n",
       "    }\n",
       "</style>\n",
       "<table border=\"1\" class=\"dataframe\">\n",
       "  <thead>\n",
       "    <tr style=\"text-align: right;\">\n",
       "      <th></th>\n",
       "      <th>id</th>\n",
       "      <th>title</th>\n",
       "      <th>x_pos</th>\n",
       "      <th>y_pos</th>\n",
       "      <th>width</th>\n",
       "      <th>height</th>\n",
       "      <th>shape</th>\n",
       "      <th>creator</th>\n",
       "      <th>num</th>\n",
       "      <th>comment</th>\n",
       "      <th>timestamp</th>\n",
       "      <th>modifiable</th>\n",
       "      <th>CAM</th>\n",
       "    </tr>\n",
       "  </thead>\n",
       "  <tbody>\n",
       "    <tr>\n",
       "      <th>0</th>\n",
       "      <td>13570</td>\n",
       "      <td>Tax Discount</td>\n",
       "      <td>252.0</td>\n",
       "      <td>379.0</td>\n",
       "      <td>160.0</td>\n",
       "      <td>120.0</td>\n",
       "      <td>positive strong</td>\n",
       "      <td>709</td>\n",
       "      <td>3.0</td>\n",
       "      <td>NaN</td>\n",
       "      <td>17:59:35</td>\n",
       "      <td>1</td>\n",
       "      <td>817</td>\n",
       "    </tr>\n",
       "    <tr>\n",
       "      <th>1</th>\n",
       "      <td>13565</td>\n",
       "      <td>Revenue Netral</td>\n",
       "      <td>51.0</td>\n",
       "      <td>377.0</td>\n",
       "      <td>160.0</td>\n",
       "      <td>120.0</td>\n",
       "      <td>ambivalent</td>\n",
       "      <td>709</td>\n",
       "      <td>2.0</td>\n",
       "      <td>NaN</td>\n",
       "      <td>17:59:50</td>\n",
       "      <td>1</td>\n",
       "      <td>817</td>\n",
       "    </tr>\n",
       "    <tr>\n",
       "      <th>2</th>\n",
       "      <td>13577</td>\n",
       "      <td>Support Environment</td>\n",
       "      <td>323.0</td>\n",
       "      <td>20.0</td>\n",
       "      <td>160.0</td>\n",
       "      <td>120.0</td>\n",
       "      <td>positive strong</td>\n",
       "      <td>709</td>\n",
       "      <td>5.0</td>\n",
       "      <td>NaN</td>\n",
       "      <td>18:00:04</td>\n",
       "      <td>1</td>\n",
       "      <td>817</td>\n",
       "    </tr>\n",
       "    <tr>\n",
       "      <th>3</th>\n",
       "      <td>13562</td>\n",
       "      <td>Carbon Tax</td>\n",
       "      <td>238.0</td>\n",
       "      <td>123.0</td>\n",
       "      <td>160.0</td>\n",
       "      <td>120.0</td>\n",
       "      <td>neutral</td>\n",
       "      <td>709</td>\n",
       "      <td>1.0</td>\n",
       "      <td>NaN</td>\n",
       "      <td>17:52:37</td>\n",
       "      <td>1</td>\n",
       "      <td>817</td>\n",
       "    </tr>\n",
       "    <tr>\n",
       "      <th>4</th>\n",
       "      <td>13574</td>\n",
       "      <td>Green</td>\n",
       "      <td>44.0</td>\n",
       "      <td>20.0</td>\n",
       "      <td>160.0</td>\n",
       "      <td>120.0</td>\n",
       "      <td>positive strong</td>\n",
       "      <td>709</td>\n",
       "      <td>4.0</td>\n",
       "      <td>NaN</td>\n",
       "      <td>18:00:16</td>\n",
       "      <td>1</td>\n",
       "      <td>817</td>\n",
       "    </tr>\n",
       "  </tbody>\n",
       "</table>\n",
       "</div>"
      ],
      "text/plain": [
       "      id                title  x_pos  y_pos  width  height            shape  \\\n",
       "0  13570         Tax Discount  252.0  379.0  160.0   120.0  positive strong   \n",
       "1  13565       Revenue Netral   51.0  377.0  160.0   120.0       ambivalent   \n",
       "2  13577  Support Environment  323.0   20.0  160.0   120.0  positive strong   \n",
       "3  13562           Carbon Tax  238.0  123.0  160.0   120.0          neutral   \n",
       "4  13574                Green   44.0   20.0  160.0   120.0  positive strong   \n",
       "\n",
       "   creator  num  comment timestamp  modifiable  CAM  \n",
       "0      709  3.0      NaN  17:59:35           1  817  \n",
       "1      709  2.0      NaN  17:59:50           1  817  \n",
       "2      709  5.0      NaN  18:00:04           1  817  \n",
       "3      709  1.0      NaN  17:52:37           1  817  \n",
       "4      709  4.0      NaN  18:00:16           1  817  "
      ]
     },
     "metadata": {},
     "output_type": "display_data"
    },
    {
     "data": {
      "text/html": [
       "<div>\n",
       "<style scoped>\n",
       "    .dataframe tbody tr th:only-of-type {\n",
       "        vertical-align: middle;\n",
       "    }\n",
       "\n",
       "    .dataframe tbody tr th {\n",
       "        vertical-align: top;\n",
       "    }\n",
       "\n",
       "    .dataframe thead th {\n",
       "        text-align: right;\n",
       "    }\n",
       "</style>\n",
       "<table border=\"1\" class=\"dataframe\">\n",
       "  <thead>\n",
       "    <tr style=\"text-align: right;\">\n",
       "      <th></th>\n",
       "      <th>id</th>\n",
       "      <th>starting_block</th>\n",
       "      <th>ending_block</th>\n",
       "      <th>line_style</th>\n",
       "      <th>creator</th>\n",
       "      <th>num</th>\n",
       "      <th>arrow_type</th>\n",
       "      <th>timestamp</th>\n",
       "      <th>CAM</th>\n",
       "    </tr>\n",
       "  </thead>\n",
       "  <tbody>\n",
       "    <tr>\n",
       "      <th>0</th>\n",
       "      <td>7785</td>\n",
       "      <td>13582</td>\n",
       "      <td>13588</td>\n",
       "      <td>Solid-Weak</td>\n",
       "      <td>709</td>\n",
       "      <td>0</td>\n",
       "      <td>none</td>\n",
       "      <td>17:57:08</td>\n",
       "      <td>817</td>\n",
       "    </tr>\n",
       "    <tr>\n",
       "      <th>1</th>\n",
       "      <td>7773</td>\n",
       "      <td>13562</td>\n",
       "      <td>13577</td>\n",
       "      <td>Solid-Weak</td>\n",
       "      <td>709</td>\n",
       "      <td>0</td>\n",
       "      <td>none</td>\n",
       "      <td>17:56:13</td>\n",
       "      <td>817</td>\n",
       "    </tr>\n",
       "    <tr>\n",
       "      <th>2</th>\n",
       "      <td>7765</td>\n",
       "      <td>13562</td>\n",
       "      <td>13570</td>\n",
       "      <td>Solid-Weak</td>\n",
       "      <td>709</td>\n",
       "      <td>0</td>\n",
       "      <td>none</td>\n",
       "      <td>17:55:28</td>\n",
       "      <td>817</td>\n",
       "    </tr>\n",
       "    <tr>\n",
       "      <th>3</th>\n",
       "      <td>7776</td>\n",
       "      <td>13562</td>\n",
       "      <td>13574</td>\n",
       "      <td>Solid-Weak</td>\n",
       "      <td>709</td>\n",
       "      <td>0</td>\n",
       "      <td>none</td>\n",
       "      <td>17:56:23</td>\n",
       "      <td>817</td>\n",
       "    </tr>\n",
       "    <tr>\n",
       "      <th>4</th>\n",
       "      <td>7753</td>\n",
       "      <td>13565</td>\n",
       "      <td>13570</td>\n",
       "      <td>Solid</td>\n",
       "      <td>709</td>\n",
       "      <td>0</td>\n",
       "      <td>none</td>\n",
       "      <td>17:54:56</td>\n",
       "      <td>817</td>\n",
       "    </tr>\n",
       "  </tbody>\n",
       "</table>\n",
       "</div>"
      ],
      "text/plain": [
       "     id  starting_block  ending_block  line_style  creator  num arrow_type  \\\n",
       "0  7785           13582         13588  Solid-Weak      709    0       none   \n",
       "1  7773           13562         13577  Solid-Weak      709    0       none   \n",
       "2  7765           13562         13570  Solid-Weak      709    0       none   \n",
       "3  7776           13562         13574  Solid-Weak      709    0       none   \n",
       "4  7753           13565         13570       Solid      709    0       none   \n",
       "\n",
       "  timestamp  CAM  \n",
       "0  17:57:08  817  \n",
       "1  17:56:13  817  \n",
       "2  17:55:28  817  \n",
       "3  17:56:23  817  \n",
       "4  17:54:56  817  "
      ]
     },
     "metadata": {},
     "output_type": "display_data"
    }
   ],
   "source": [
    "cam_id = my_id_list[0] #grab a single id to just look through code\n",
    "\n",
    "blocks = pd.read_csv(f'{my_filepath}/{cam_id}_blocks.csv')\n",
    "links = pd.read_csv(f'{my_filepath}/{cam_id}_links.csv')\n",
    "\n",
    "display(blocks.head()) # first 5 rows of node data\n",
    "display(links.head()) # first 5 rows of edge data"
   ]
  },
  {
   "cell_type": "markdown",
   "metadata": {},
   "source": [
    "### 2.B) Create A Basic Graph Using Networkx"
   ]
  },
  {
   "cell_type": "markdown",
   "metadata": {},
   "source": [
    "#### Create a function to build most basic graph"
   ]
  },
  {
   "cell_type": "code",
   "execution_count": 9,
   "metadata": {},
   "outputs": [],
   "source": [
    "def graph_from_df(node_df, edge_df):\n",
    "    # Get nodes\n",
    "    nodes = node_df['id'].to_list()\n",
    "    \n",
    "    # Get edges\n",
    "    edge_start = edge_df['starting_block'].to_list()\n",
    "    edge_end = edge_df['ending_block'].to_list()\n",
    "    edges = tuple(zip(edge_start, edge_end))\n",
    "    \n",
    "    # Create Graph\n",
    "    G = nx.Graph()\n",
    "    G.add_nodes_from(nodes)\n",
    "    G.add_edges_from(edges)\n",
    "    \n",
    "    return G"
   ]
  },
  {
   "cell_type": "markdown",
   "metadata": {},
   "source": [
    "#### Pass the dataframes for your nodes and links (created above) and assign to variable called G"
   ]
  },
  {
   "cell_type": "code",
   "execution_count": 10,
   "metadata": {},
   "outputs": [],
   "source": [
    "G = graph_from_df(blocks,links)"
   ]
  },
  {
   "cell_type": "markdown",
   "metadata": {},
   "source": [
    "### 2.C) Create a function to add attributes to graph"
   ]
  },
  {
   "cell_type": "code",
   "execution_count": 11,
   "metadata": {},
   "outputs": [],
   "source": [
    "def add_node_attributes(graph_name, node_df, attr_name): #attr_column_name must be in quotes\n",
    "    \n",
    "    blocks_dict = node_df[['id', attr_name]].set_index('id').to_dict()[attr_name]\n",
    "    \n",
    "    nx.set_node_attributes(graph_name, blocks_dict, attr_name)\n",
    "    "
   ]
  },
  {
   "cell_type": "code",
   "execution_count": 12,
   "metadata": {},
   "outputs": [],
   "source": [
    "def add_link_attributes(graph_name, edge_df, attr_name):\n",
    "    attr_full_dict = {}\n",
    "    \n",
    "    edge_df['unique_link']= list(zip(edge_df['starting_block'], edge_df['ending_block']))\n",
    "        \n",
    "    for idx, row in edge_df.iterrows():\n",
    "        \n",
    "        attr_dict = {attr_name: row[attr_name]}\n",
    "        \n",
    "        attr_full_dict.update({row['unique_link']:attr_dict})\n",
    "    \n",
    "    nx.set_edge_attributes(G, attr_full_dict)\n",
    "    \n",
    "    \n",
    "    "
   ]
  },
  {
   "cell_type": "markdown",
   "metadata": {},
   "source": [
    "### 2.D) Make all the Graphs using functions above\n",
    "#### Store all graphs in a list"
   ]
  },
  {
   "cell_type": "code",
   "execution_count": 13,
   "metadata": {},
   "outputs": [
    {
     "name": "stdout",
     "output_type": "stream",
     "text": [
      "CAM 575ec4be3fc3ac000611df4c__771 does not exist\n",
      "Summary Info:\n",
      "number of missing cams: 1\n",
      "number of cams with no links: 32\n",
      "number of complete cams: 126\n"
     ]
    }
   ],
   "source": [
    "graph_list = [] #This will store your finished graphs.\n",
    "working_id = [] #Get total number of completed cams\n",
    "no_data = [] #Catch cams that have no links\n",
    "missing_cam = [] #Catch ids without cams\n",
    "\n",
    "for i in my_id_list:\n",
    "    \n",
    "    \n",
    "    try:\n",
    "        blocks_df = pd.read_csv(f'{my_filepath}/{i}_blocks.csv')\n",
    "\n",
    "        links_df = pd.read_csv(f'{my_filepath}/{i}_links.csv')\n",
    "        \n",
    "        if len(links_df)>0:\n",
    "\n",
    "            G = graph_from_df(blocks_df, links_df)\n",
    "\n",
    "            add_node_attributes(G,blocks_df,'title')\n",
    "\n",
    "            add_node_attributes(G,blocks_df,'shape')\n",
    "\n",
    "            add_link_attributes(G, links_df, 'line_style')\n",
    "\n",
    "            graph_list.append(G)\n",
    "            \n",
    "            working_id.append(i)\n",
    "\n",
    "        \n",
    "        else:\n",
    "            no_data.append(i)\n",
    "    \n",
    "    except:\n",
    "        \n",
    "        missing_cam.append(i)\n",
    "        print(f'CAM {i} does not exist')\n",
    "\n",
    "print('Summary Info:')\n",
    "print(f'number of missing cams: {len(missing_cam)}')\n",
    "print(f'number of cams with no links: {len(no_data)}')\n",
    "print(f'number of complete cams: {len(working_id)}')\n"
   ]
  },
  {
   "cell_type": "markdown",
   "metadata": {},
   "source": [
    "### 2.E) Look at one of the graphs stored in your graph list"
   ]
  },
  {
   "cell_type": "code",
   "execution_count": 14,
   "metadata": {},
   "outputs": [
    {
     "name": "stdout",
     "output_type": "stream",
     "text": [
      "Edge Attributes\n",
      "[(13488, 13519, {'line_style': 'Solid-Strong'}), (13488, 13480, {'line_style': 'Dashed'}), (13480, 13510, {'line_style': 'Solid-Weak'}), (13480, 13485, {'line_style': 'Solid-Weak'}), (13480, 13519, {'line_style': 'Solid'}), (13480, 13537, {'line_style': 'Solid-Strong'}), (13480, 13545, {'line_style': 'Solid-Weak'}), (13480, 13558, {'line_style': 'Solid-Weak'}), (13485, 13510, {'line_style': 'Solid-Strong'}), (13485, 13558, {'line_style': 'Solid'}), (13545, 13537, {'line_style': 'Solid-Strong'})]\n",
      "-------------------------\n",
      "Node Attributes\n",
      "[(13488, {'title': 'Backlash from scary conservatives', 'shape': 'negative weak'}), (13480, {'title': 'Carbon Tax', 'shape': 'neutral'}), (13485, {'title': 'makes people more enviromentally concious', 'shape': 'positive weak'}), (13510, {'title': 'Fresher air', 'shape': 'positive strong'}), (13519, {'title': 'Price of goods could go up', 'shape': 'negative weak'}), (13545, {'title': 'More social service/ environment jobs', 'shape': 'positive weak'}), (13537, {'title': 'More tax = more money for social services', 'shape': 'positive strong'}), (13558, {'title': 'Catching up to other countries who are already lessening their environment footprint', 'shape': 'positive weak'})]\n"
     ]
    },
    {
     "data": {
      "image/png": "[encoded data removed]",
      "text/plain": [
       "<Figure size 432x288 with 1 Axes>"
      ]
     },
     "metadata": {},
     "output_type": "display_data"
    }
   ],
   "source": [
    "my_graph = graph_list[1]\n",
    "\n",
    "nx.draw(my_graph)\n",
    "print('Edge Attributes')\n",
    "print(my_graph.edges(data = True)) \n",
    "print('-------------------------')\n",
    "print('Node Attributes')\n",
    "print(my_graph.nodes(data = True))\n"
   ]
  },
  {
   "cell_type": "markdown",
   "metadata": {},
   "source": [
    "# 3) Creating Network Measures"
   ]
  },
  {
   "cell_type": "markdown",
   "metadata": {},
   "source": [
    "### 3.A) Create Functions Calculate Diversity\n",
    "\n",
    "This methodology can be found on pg 5 of the following paper: https://arxiv.org/pdf/0901.1380.pdf"
   ]
  },
  {
   "cell_type": "code",
   "execution_count": 15,
   "metadata": {},
   "outputs": [],
   "source": [
    "def calculate_diversity(D, probs):\n",
    "    \"\"\"\n",
    "    Calculate Stirling Diversity measure with alpha = beta = 1\n",
    "    Args:\n",
    "        param: D - Distance Matrix\n",
    "        param: probs - list of probabilities in order of Strong Negative, Negative, Weak Negative, Neutral, Weak Positive, Positive, Strong Positive\n",
    "    \"\"\"\n",
    "    S = 0\n",
    "    for i in range(7):\n",
    "        for j in range(7):\n",
    "            S += D[i, j]*probs[i]*probs[j]\n",
    "    return S"
   ]
  },
  {
   "cell_type": "code",
   "execution_count": 16,
   "metadata": {},
   "outputs": [],
   "source": [
    "def get_prob_list(block_df, value_list):\n",
    "    probs_list = []\n",
    "    \n",
    "    for j in range(7):\n",
    "        x = 0\n",
    "        for i in range(len(block_df)):\n",
    "            node = block_df['shape'][i]\n",
    "            \n",
    "            if node == 'ambivalent':\n",
    "                node = 'neutral' \n",
    "                \n",
    "            if node == value_list[j]:\n",
    "                x = x+1\n",
    "                \n",
    "        x = x/len(block_df)\n",
    "        probs_list.append(x)\n",
    "    \n",
    "    return probs_list"
   ]
  },
  {
   "cell_type": "markdown",
   "metadata": {},
   "source": [
    "### Note:\n",
    "currently Valience software only permits 7 node types."
   ]
  },
  {
   "cell_type": "code",
   "execution_count": 17,
   "metadata": {},
   "outputs": [],
   "source": [
    "# Create distance matrix\n",
    "D = np.zeros((7,7))  # We have seven node types hence 7 (note that we consider ambivalent as the same as neutral in this calculation)\n",
    "dist_ = np.arange(7)\n",
    "for i in range(7):\n",
    "    D[i,i:] = dist_\n",
    "    D[i:,i] = dist_\n",
    "    dist_ = dist_[:-1]"
   ]
  },
  {
   "cell_type": "markdown",
   "metadata": {},
   "source": [
    "### 3.B) Create Function to Calculate Valence "
   ]
  },
  {
   "cell_type": "code",
   "execution_count": 18,
   "metadata": {},
   "outputs": [],
   "source": [
    "def valenceCalc(dataframe):\n",
    "    \n",
    "#     Calculate average valence using two methods\n",
    "#     1 - counting ambivalent nodes once\n",
    "#     2 - counting ambivalent nodes twice\n",
    "    \n",
    "    valence_avg = 0\n",
    "    if len(dataframe['shape']) > 0:  # If there are any concepts!!\n",
    "        for valence in dataframe['shape']:\n",
    "            if valence == 'neutral':\n",
    "                valence_avg += 0\n",
    "            elif 'positive' in valence:\n",
    "                if 'weak' in valence:\n",
    "                    valence_avg += 1\n",
    "                elif valence == 'positive':\n",
    "                    valence_avg += 2\n",
    "                elif 'strong' in valence:\n",
    "                    valence_avg += 3\n",
    "            elif 'negative' in valence:\n",
    "                if 'weak' in valence:\n",
    "                    valence_avg -= 1\n",
    "                elif valence == 'negative':\n",
    "                    valence_avg -= 2\n",
    "                elif 'strong' in valence:\n",
    "                    valence_avg -= 3\n",
    "        option1 = np.round(valence_avg/len(dataframe['shape']), 2)\n",
    "        option2 = np.round(valence_avg/(len(dataframe['shape'])+len(dataframe[dataframe['shape'] == 'ambivalent'])), 2)\n",
    "        return option1, option2\n",
    "    else:\n",
    "        return 0, 0"
   ]
  },
  {
   "cell_type": "markdown",
   "metadata": {},
   "source": [
    "### 3.C) Make lists of node and edge values"
   ]
  },
  {
   "cell_type": "code",
   "execution_count": 19,
   "metadata": {},
   "outputs": [],
   "source": [
    "# Get a list of node attribute names to loop over\n",
    "positive_list = ['positive strong', 'positive','positive weak']\n",
    "negative_list = ['negative strong','negative','negative weak']\n",
    "neutral_list = ['neutral','ambivalent']\n",
    "node_val_list = negative_list + neutral_list[:-1] + positive_list"
   ]
  },
  {
   "cell_type": "code",
   "execution_count": 20,
   "metadata": {},
   "outputs": [],
   "source": [
    "# Get a list of edge attribute names to loop over\n",
    "solid_list = ['Solid', 'Solid-Strong', 'Solid-Weak']  # Solid link types\n",
    "dashed_list = ['Dashed', 'Dashed-Strong', 'Dashed-Weak']  # Dashed link types\n",
    "    "
   ]
  },
  {
   "cell_type": "markdown",
   "metadata": {},
   "source": [
    "### 3.D) Create function to make data frame of GLI for all CAMs"
   ]
  },
  {
   "cell_type": "code",
   "execution_count": 21,
   "metadata": {},
   "outputs": [],
   "source": [
    "def calc_CAM_GLI(id_list):\n",
    "    \n",
    "    #Create dictionary to hold results\n",
    "    dictionary_list = []\n",
    "    \n",
    "    for cam_id in id_list:\n",
    "        #Create counter variables\n",
    "        block_neg = 0\n",
    "        block_pos = 0\n",
    "        block_neut = 0\n",
    "        link_solid = 0\n",
    "        link_dashed = 0\n",
    "        \n",
    "        try:\n",
    "            df_blocks = pd.read_csv(f'{my_filepath}/{cam_id}_blocks.csv')\n",
    "            df_links = pd.read_csv(f'{my_filepath}/{cam_id}_links.csv')\n",
    "            \n",
    "            #Get proportion of positive and negative nodes\n",
    "            for i in range(len(df_blocks)):\n",
    "                \n",
    "                if df_blocks['shape'][i] in negative_list:\n",
    "                    block_neg = block_neg + 1\n",
    "                    \n",
    "                elif df_blocks['shape'][i] in positive_list:\n",
    "                    block_pos = block_pos + 1\n",
    "                    \n",
    "                else:\n",
    "                    block_neut = block_neut + 1\n",
    "\n",
    "            # Get proportion of solid and dashed lines\n",
    "            for i in range(len(df_links)):\n",
    "                \n",
    "                if df_links['line_style'][i] in solid_list:\n",
    "                    link_solid += 1\n",
    "                    \n",
    "                else:\n",
    "                    link_dashed += 1\n",
    "            \n",
    "            # Get probabilities of each type of node -- used for diversity calculation\n",
    "            neg_strong = df_blocks[df_blocks['shape']=='negative strong'].count()\n",
    "            neg = df_blocks[df_blocks['shape']=='negative'].count()\n",
    "            neg_weak = df_blocks[df_blocks['shape']=='negative weak'].count()\n",
    "            neutral = df_blocks[(df_blocks['shape']=='neutral') & (df_blocks['shape']=='ambivalent')].count()\n",
    "            pos_weak = df_blocks[df_blocks['shape']=='positive weak'].count()\n",
    "            pos = df_blocks[df_blocks['shape']=='positive'].count()\n",
    "            pos_strong = df_blocks[df_blocks['shape']=='positive strong'].count()\n",
    "            probs = [neg_strong, neg, neg_weak, neutral, pos_weak, pos, pos_strong]\n",
    "            \n",
    "            \n",
    "            #Get diversity measure (Check about prob list)\n",
    "            try:\n",
    "                probs = [neg_strong, neg, neg_weak, neutral, pos_weak, pos, pos_strong]\n",
    "                #probs = get_prob_list(df_blocks, node_val_list)\n",
    "                div_ = calculate_diversity(D, probs)\n",
    "            except:\n",
    "                node_diversity = 999\n",
    "            \n",
    "            try:\n",
    "                node_valence = valenceCalc(df_blocks)\n",
    "                node_valence_1 = node_valence[0]\n",
    "                node_valence_2 = node_valence[1]\n",
    "            except:\n",
    "                node_valence_1 = 999\n",
    "                      \n",
    "            \n",
    "            # Get nodes\n",
    "            nodes = df_blocks['id'].to_list()\n",
    "            \n",
    "            # Get edges\n",
    "            edge_start = df_links['starting_block'].to_list()\n",
    "            edge_end = df_links['ending_block'].to_list()\n",
    "            edges = tuple(zip(edge_start, edge_end))\n",
    "            \n",
    "            # Create Graph\n",
    "            G = nx.Graph()\n",
    "            G.add_nodes_from(nodes)\n",
    "            G.add_edges_from(edges)\n",
    "            \n",
    "            # Calculate Density\n",
    "            density = np.round(nx.density(G), 3)\n",
    "            node_count = G.number_of_nodes()\n",
    "            edge_count = G.size()\n",
    "            \n",
    "            # Calculate longest path\n",
    "            try:\n",
    "                components = nx.connected_components(G)\n",
    "                largest_component = max(components, key=len)\n",
    "                subgraph = G.subgraph(largest_component)\n",
    "                diameter = nx.diameter(subgraph)\n",
    "            except:\n",
    "                diameter = 0\n",
    "                \n",
    "            # Calculate transitivity\n",
    "            triadic_closure = np.round(nx.transitivity(G), 3)\n",
    "            \n",
    "            # Calculate max degree\n",
    "            try:\n",
    "                degree_centrality = nx.degree_centrality(G)\n",
    "                max_centrality_ind = np.argmax(list(degree_centrality.values()))\n",
    "                central_node = list(degree_centrality.keys())[max_centrality_ind]\n",
    "                central_node_title = df_blocks[df_blocks['id'] == central_node]['title'].values[0]\n",
    "                central_node_val = np.round(list(degree_centrality.values())[max_centrality_ind], 3)\n",
    "            except:\n",
    "                central_node = 0\n",
    "                central_node_title = ''\n",
    "                central_node_val = 0\n",
    "                \n",
    "            # Eigenvector Centrality\n",
    "            try:\n",
    "                eigenvector_centrality = nx.eigenvector_centrality(G)\n",
    "                max_centrality_ind = np.argmax(list(eigenvector_centrality.values()))\n",
    "                central_node_val_eig = np.round(list(eigenvector_centrality.values())[max_centrality_ind], 3)\n",
    "            except:\n",
    "                central_node_val_eig = 0\n",
    "                \n",
    "            # Betweeness Centrality\n",
    "            try:\n",
    "                betweenness_centrality = nx.betweenness_centrality(G)\n",
    "                max_centrality_ind = np.argmax(list(betweenness_centrality.values()))\n",
    "                central_node_val_bet = np.round(list(betweenness_centrality.values())[max_centrality_ind], 3)\n",
    "            except:\n",
    "                central_node_val_bet = 0\n",
    "\n",
    "            # Make the dictionary\n",
    "                #add in ratio of node val\n",
    "                #add number of type of node\n",
    "            density_dict = {\n",
    "                'cam_id': cam_id,\n",
    "                'node_count': node_count,\n",
    "                'edge_count': edge_count,\n",
    "                'positive_nodes':block_pos,\n",
    "                'negative_nodes':block_neg,\n",
    "                'neutral_nodes':block_neut,\n",
    "                'link_solid': link_solid,\n",
    "                'link_dashed': link_dashed,\n",
    "                'node_diversity': div_,\n",
    "                'node_valence_1': node_valence_1,\n",
    "                'node_valence_2':node_valence_2,\n",
    "                'density': density,\n",
    "                'diameter': diameter,\n",
    "                'triadic_closure': triadic_closure,\n",
    "                'central_node': central_node,\n",
    "                'central_node_title': central_node_title,\n",
    "                'central_node_val': central_node_val,\n",
    "                'central_node_val_eig': central_node_val_eig,\n",
    "                'central_node_val_bet': central_node_val_bet\n",
    "            }\n",
    "\n",
    "            dictionary_list.append(density_dict)\n",
    "            \n",
    "        except:\n",
    "            print(f'No file found for {cam_id}') #Return the name of any cams not found\n",
    "        \n",
    "    cam_density_df = pd.DataFrame(dictionary_list) #Assign network measures to dataframe\n",
    "            \n",
    "    return cam_density_df"
   ]
  },
  {
   "cell_type": "markdown",
   "metadata": {},
   "source": [
    "### 3.F) Run the function above and assign data frame output to a variable called cam_GLI_df"
   ]
  },
  {
   "cell_type": "code",
   "execution_count": 22,
   "metadata": {},
   "outputs": [
    {
     "name": "stdout",
     "output_type": "stream",
     "text": [
      "No file found for 575ec4be3fc3ac000611df4c__771\n"
     ]
    },
    {
     "data": {
      "text/html": [
       "<div>\n",
       "<style scoped>\n",
       "    .dataframe tbody tr th:only-of-type {\n",
       "        vertical-align: middle;\n",
       "    }\n",
       "\n",
       "    .dataframe tbody tr th {\n",
       "        vertical-align: top;\n",
       "    }\n",
       "\n",
       "    .dataframe thead th {\n",
       "        text-align: right;\n",
       "    }\n",
       "</style>\n",
       "<table border=\"1\" class=\"dataframe\">\n",
       "  <thead>\n",
       "    <tr style=\"text-align: right;\">\n",
       "      <th></th>\n",
       "      <th>cam_id</th>\n",
       "      <th>node_count</th>\n",
       "      <th>edge_count</th>\n",
       "      <th>positive_nodes</th>\n",
       "      <th>negative_nodes</th>\n",
       "      <th>neutral_nodes</th>\n",
       "      <th>link_solid</th>\n",
       "      <th>link_dashed</th>\n",
       "      <th>node_diversity</th>\n",
       "      <th>node_valence_1</th>\n",
       "      <th>node_valence_2</th>\n",
       "      <th>density</th>\n",
       "      <th>diameter</th>\n",
       "      <th>triadic_closure</th>\n",
       "      <th>central_node</th>\n",
       "      <th>central_node_title</th>\n",
       "      <th>central_node_val</th>\n",
       "      <th>central_node_val_eig</th>\n",
       "      <th>central_node_val_bet</th>\n",
       "    </tr>\n",
       "  </thead>\n",
       "  <tbody>\n",
       "    <tr>\n",
       "      <th>0</th>\n",
       "      <td>5f32a496a026e809d7d55cbd_817</td>\n",
       "      <td>7</td>\n",
       "      <td>10</td>\n",
       "      <td>4</td>\n",
       "      <td>1</td>\n",
       "      <td>2</td>\n",
       "      <td>9</td>\n",
       "      <td>1</td>\n",
       "      <td>id            48.0\n",
       "title         48.0\n",
       "x_pos   ...</td>\n",
       "      <td>1.29</td>\n",
       "      <td>1.12</td>\n",
       "      <td>0.476</td>\n",
       "      <td>2</td>\n",
       "      <td>0.480</td>\n",
       "      <td>13562</td>\n",
       "      <td>Carbon Tax</td>\n",
       "      <td>1.000</td>\n",
       "      <td>0.595</td>\n",
       "      <td>0.667</td>\n",
       "    </tr>\n",
       "    <tr>\n",
       "      <th>1</th>\n",
       "      <td>5f67f8d55e7718150fd23bc7_802</td>\n",
       "      <td>8</td>\n",
       "      <td>11</td>\n",
       "      <td>5</td>\n",
       "      <td>2</td>\n",
       "      <td>1</td>\n",
       "      <td>10</td>\n",
       "      <td>1</td>\n",
       "      <td>id            80.0\n",
       "title         80.0\n",
       "x_pos   ...</td>\n",
       "      <td>0.88</td>\n",
       "      <td>0.88</td>\n",
       "      <td>0.393</td>\n",
       "      <td>2</td>\n",
       "      <td>0.400</td>\n",
       "      <td>13480</td>\n",
       "      <td>Carbon Tax</td>\n",
       "      <td>1.000</td>\n",
       "      <td>0.623</td>\n",
       "      <td>0.786</td>\n",
       "    </tr>\n",
       "    <tr>\n",
       "      <th>2</th>\n",
       "      <td>5e45dd10f354ca0c7f4225c7_903</td>\n",
       "      <td>10</td>\n",
       "      <td>9</td>\n",
       "      <td>3</td>\n",
       "      <td>3</td>\n",
       "      <td>4</td>\n",
       "      <td>8</td>\n",
       "      <td>1</td>\n",
       "      <td>id            76.0\n",
       "title         76.0\n",
       "x_pos   ...</td>\n",
       "      <td>0.00</td>\n",
       "      <td>0.00</td>\n",
       "      <td>0.200</td>\n",
       "      <td>5</td>\n",
       "      <td>0.000</td>\n",
       "      <td>14076</td>\n",
       "      <td>economic growth</td>\n",
       "      <td>0.444</td>\n",
       "      <td>0.566</td>\n",
       "      <td>0.722</td>\n",
       "    </tr>\n",
       "    <tr>\n",
       "      <th>3</th>\n",
       "      <td>5f4ae6a7ad7baa6aecef4234_990</td>\n",
       "      <td>14</td>\n",
       "      <td>13</td>\n",
       "      <td>3</td>\n",
       "      <td>8</td>\n",
       "      <td>3</td>\n",
       "      <td>13</td>\n",
       "      <td>0</td>\n",
       "      <td>id            232.0\n",
       "title         232.0\n",
       "x_pos ...</td>\n",
       "      <td>-0.93</td>\n",
       "      <td>-0.93</td>\n",
       "      <td>0.143</td>\n",
       "      <td>7</td>\n",
       "      <td>0.000</td>\n",
       "      <td>14686</td>\n",
       "      <td>Unequal effect on classes and regions</td>\n",
       "      <td>0.231</td>\n",
       "      <td>0.471</td>\n",
       "      <td>0.667</td>\n",
       "    </tr>\n",
       "    <tr>\n",
       "      <th>4</th>\n",
       "      <td>5a4e8f4930adf7000106fd5e_928</td>\n",
       "      <td>12</td>\n",
       "      <td>12</td>\n",
       "      <td>5</td>\n",
       "      <td>5</td>\n",
       "      <td>2</td>\n",
       "      <td>11</td>\n",
       "      <td>1</td>\n",
       "      <td>id            300.0\n",
       "title         300.0\n",
       "x_pos ...</td>\n",
       "      <td>0.00</td>\n",
       "      <td>0.00</td>\n",
       "      <td>0.182</td>\n",
       "      <td>6</td>\n",
       "      <td>0.000</td>\n",
       "      <td>14279</td>\n",
       "      <td>Financial Burden</td>\n",
       "      <td>0.364</td>\n",
       "      <td>0.470</td>\n",
       "      <td>0.636</td>\n",
       "    </tr>\n",
       "    <tr>\n",
       "      <th>...</th>\n",
       "      <td>...</td>\n",
       "      <td>...</td>\n",
       "      <td>...</td>\n",
       "      <td>...</td>\n",
       "      <td>...</td>\n",
       "      <td>...</td>\n",
       "      <td>...</td>\n",
       "      <td>...</td>\n",
       "      <td>...</td>\n",
       "      <td>...</td>\n",
       "      <td>...</td>\n",
       "      <td>...</td>\n",
       "      <td>...</td>\n",
       "      <td>...</td>\n",
       "      <td>...</td>\n",
       "      <td>...</td>\n",
       "      <td>...</td>\n",
       "      <td>...</td>\n",
       "      <td>...</td>\n",
       "    </tr>\n",
       "    <tr>\n",
       "      <th>153</th>\n",
       "      <td>5f57fef7e7b06a35296f215d_822</td>\n",
       "      <td>12</td>\n",
       "      <td>17</td>\n",
       "      <td>4</td>\n",
       "      <td>4</td>\n",
       "      <td>4</td>\n",
       "      <td>13</td>\n",
       "      <td>4</td>\n",
       "      <td>id            192.0\n",
       "title         192.0\n",
       "x_pos ...</td>\n",
       "      <td>0.00</td>\n",
       "      <td>0.00</td>\n",
       "      <td>0.258</td>\n",
       "      <td>5</td>\n",
       "      <td>0.214</td>\n",
       "      <td>13629</td>\n",
       "      <td>Economy</td>\n",
       "      <td>0.455</td>\n",
       "      <td>0.467</td>\n",
       "      <td>0.544</td>\n",
       "    </tr>\n",
       "    <tr>\n",
       "      <th>154</th>\n",
       "      <td>5b0f33dd1e55760001b9a9ce_812</td>\n",
       "      <td>11</td>\n",
       "      <td>22</td>\n",
       "      <td>6</td>\n",
       "      <td>3</td>\n",
       "      <td>2</td>\n",
       "      <td>19</td>\n",
       "      <td>3</td>\n",
       "      <td>id            204.0\n",
       "title         204.0\n",
       "x_pos ...</td>\n",
       "      <td>0.91</td>\n",
       "      <td>0.91</td>\n",
       "      <td>0.400</td>\n",
       "      <td>3</td>\n",
       "      <td>0.495</td>\n",
       "      <td>13542</td>\n",
       "      <td>Carbon Tax</td>\n",
       "      <td>0.800</td>\n",
       "      <td>0.470</td>\n",
       "      <td>0.369</td>\n",
       "    </tr>\n",
       "    <tr>\n",
       "      <th>155</th>\n",
       "      <td>5ca6c9f3a752220001ca1be3_838</td>\n",
       "      <td>9</td>\n",
       "      <td>6</td>\n",
       "      <td>3</td>\n",
       "      <td>2</td>\n",
       "      <td>4</td>\n",
       "      <td>6</td>\n",
       "      <td>0</td>\n",
       "      <td>id            64.0\n",
       "title         64.0\n",
       "x_pos   ...</td>\n",
       "      <td>0.11</td>\n",
       "      <td>0.11</td>\n",
       "      <td>0.167</td>\n",
       "      <td>3</td>\n",
       "      <td>0.333</td>\n",
       "      <td>13693</td>\n",
       "      <td>Carbon Tax</td>\n",
       "      <td>0.500</td>\n",
       "      <td>0.628</td>\n",
       "      <td>0.286</td>\n",
       "    </tr>\n",
       "    <tr>\n",
       "      <th>156</th>\n",
       "      <td>5f7dd740074da20008c51bf5_818</td>\n",
       "      <td>7</td>\n",
       "      <td>8</td>\n",
       "      <td>4</td>\n",
       "      <td>3</td>\n",
       "      <td>0</td>\n",
       "      <td>8</td>\n",
       "      <td>0</td>\n",
       "      <td>id            104.0\n",
       "title         104.0\n",
       "x_pos ...</td>\n",
       "      <td>-0.14</td>\n",
       "      <td>-0.14</td>\n",
       "      <td>0.381</td>\n",
       "      <td>4</td>\n",
       "      <td>0.400</td>\n",
       "      <td>13566</td>\n",
       "      <td>Carbon Tax</td>\n",
       "      <td>0.667</td>\n",
       "      <td>0.552</td>\n",
       "      <td>0.567</td>\n",
       "    </tr>\n",
       "    <tr>\n",
       "      <th>157</th>\n",
       "      <td>5eed1ee2cb93ea12dfc13405_899</td>\n",
       "      <td>9</td>\n",
       "      <td>14</td>\n",
       "      <td>3</td>\n",
       "      <td>5</td>\n",
       "      <td>1</td>\n",
       "      <td>8</td>\n",
       "      <td>6</td>\n",
       "      <td>id            138.0\n",
       "title         138.0\n",
       "x_pos ...</td>\n",
       "      <td>-0.78</td>\n",
       "      <td>-0.78</td>\n",
       "      <td>0.389</td>\n",
       "      <td>2</td>\n",
       "      <td>0.457</td>\n",
       "      <td>14046</td>\n",
       "      <td>CarbonTax</td>\n",
       "      <td>1.000</td>\n",
       "      <td>0.588</td>\n",
       "      <td>0.732</td>\n",
       "    </tr>\n",
       "  </tbody>\n",
       "</table>\n",
       "<p>158 rows × 19 columns</p>\n",
       "</div>"
      ],
      "text/plain": [
       "                           cam_id  node_count  edge_count  positive_nodes  \\\n",
       "0    5f32a496a026e809d7d55cbd_817           7          10               4   \n",
       "1    5f67f8d55e7718150fd23bc7_802           8          11               5   \n",
       "2    5e45dd10f354ca0c7f4225c7_903          10           9               3   \n",
       "3    5f4ae6a7ad7baa6aecef4234_990          14          13               3   \n",
       "4    5a4e8f4930adf7000106fd5e_928          12          12               5   \n",
       "..                            ...         ...         ...             ...   \n",
       "153  5f57fef7e7b06a35296f215d_822          12          17               4   \n",
       "154  5b0f33dd1e55760001b9a9ce_812          11          22               6   \n",
       "155  5ca6c9f3a752220001ca1be3_838           9           6               3   \n",
       "156  5f7dd740074da20008c51bf5_818           7           8               4   \n",
       "157  5eed1ee2cb93ea12dfc13405_899           9          14               3   \n",
       "\n",
       "     negative_nodes  neutral_nodes  link_solid  link_dashed  \\\n",
       "0                 1              2           9            1   \n",
       "1                 2              1          10            1   \n",
       "2                 3              4           8            1   \n",
       "3                 8              3          13            0   \n",
       "4                 5              2          11            1   \n",
       "..              ...            ...         ...          ...   \n",
       "153               4              4          13            4   \n",
       "154               3              2          19            3   \n",
       "155               2              4           6            0   \n",
       "156               3              0           8            0   \n",
       "157               5              1           8            6   \n",
       "\n",
       "                                        node_diversity  node_valence_1  \\\n",
       "0    id            48.0\n",
       "title         48.0\n",
       "x_pos   ...            1.29   \n",
       "1    id            80.0\n",
       "title         80.0\n",
       "x_pos   ...            0.88   \n",
       "2    id            76.0\n",
       "title         76.0\n",
       "x_pos   ...            0.00   \n",
       "3    id            232.0\n",
       "title         232.0\n",
       "x_pos ...           -0.93   \n",
       "4    id            300.0\n",
       "title         300.0\n",
       "x_pos ...            0.00   \n",
       "..                                                 ...             ...   \n",
       "153  id            192.0\n",
       "title         192.0\n",
       "x_pos ...            0.00   \n",
       "154  id            204.0\n",
       "title         204.0\n",
       "x_pos ...            0.91   \n",
       "155  id            64.0\n",
       "title         64.0\n",
       "x_pos   ...            0.11   \n",
       "156  id            104.0\n",
       "title         104.0\n",
       "x_pos ...           -0.14   \n",
       "157  id            138.0\n",
       "title         138.0\n",
       "x_pos ...           -0.78   \n",
       "\n",
       "     node_valence_2  density  diameter  triadic_closure  central_node  \\\n",
       "0              1.12    0.476         2            0.480         13562   \n",
       "1              0.88    0.393         2            0.400         13480   \n",
       "2              0.00    0.200         5            0.000         14076   \n",
       "3             -0.93    0.143         7            0.000         14686   \n",
       "4              0.00    0.182         6            0.000         14279   \n",
       "..              ...      ...       ...              ...           ...   \n",
       "153            0.00    0.258         5            0.214         13629   \n",
       "154            0.91    0.400         3            0.495         13542   \n",
       "155            0.11    0.167         3            0.333         13693   \n",
       "156           -0.14    0.381         4            0.400         13566   \n",
       "157           -0.78    0.389         2            0.457         14046   \n",
       "\n",
       "                        central_node_title  central_node_val  \\\n",
       "0                               Carbon Tax             1.000   \n",
       "1                               Carbon Tax             1.000   \n",
       "2                          economic growth             0.444   \n",
       "3    Unequal effect on classes and regions             0.231   \n",
       "4                         Financial Burden             0.364   \n",
       "..                                     ...               ...   \n",
       "153                                Economy             0.455   \n",
       "154                             Carbon Tax             0.800   \n",
       "155                             Carbon Tax             0.500   \n",
       "156                             Carbon Tax             0.667   \n",
       "157                              CarbonTax             1.000   \n",
       "\n",
       "     central_node_val_eig  central_node_val_bet  \n",
       "0                   0.595                 0.667  \n",
       "1                   0.623                 0.786  \n",
       "2                   0.566                 0.722  \n",
       "3                   0.471                 0.667  \n",
       "4                   0.470                 0.636  \n",
       "..                    ...                   ...  \n",
       "153                 0.467                 0.544  \n",
       "154                 0.470                 0.369  \n",
       "155                 0.628                 0.286  \n",
       "156                 0.552                 0.567  \n",
       "157                 0.588                 0.732  \n",
       "\n",
       "[158 rows x 19 columns]"
      ]
     },
     "metadata": {},
     "output_type": "display_data"
    }
   ],
   "source": [
    "cam_GLI_df = calc_CAM_GLI(my_id_list)\n",
    "display(cam_GLI_df)"
   ]
  },
  {
   "cell_type": "markdown",
   "metadata": {},
   "source": [
    "# 4) Summary Information on CAM Measures"
   ]
  },
  {
   "cell_type": "markdown",
   "metadata": {},
   "source": [
    "### 4.A) Distribution of Node Count"
   ]
  },
  {
   "cell_type": "code",
   "execution_count": 23,
   "metadata": {},
   "outputs": [
    {
     "data": {
      "text/html": [
       "<div>\n",
       "<style scoped>\n",
       "    .dataframe tbody tr th:only-of-type {\n",
       "        vertical-align: middle;\n",
       "    }\n",
       "\n",
       "    .dataframe tbody tr th {\n",
       "        vertical-align: top;\n",
       "    }\n",
       "\n",
       "    .dataframe thead th {\n",
       "        text-align: right;\n",
       "    }\n",
       "</style>\n",
       "<table border=\"1\" class=\"dataframe\">\n",
       "  <thead>\n",
       "    <tr style=\"text-align: right;\">\n",
       "      <th></th>\n",
       "      <th>node_count</th>\n",
       "      <th>cam_count</th>\n",
       "    </tr>\n",
       "  </thead>\n",
       "  <tbody>\n",
       "    <tr>\n",
       "      <th>0</th>\n",
       "      <td>0</td>\n",
       "      <td>24</td>\n",
       "    </tr>\n",
       "    <tr>\n",
       "      <th>1</th>\n",
       "      <td>1</td>\n",
       "      <td>4</td>\n",
       "    </tr>\n",
       "    <tr>\n",
       "      <th>2</th>\n",
       "      <td>2</td>\n",
       "      <td>2</td>\n",
       "    </tr>\n",
       "    <tr>\n",
       "      <th>3</th>\n",
       "      <td>3</td>\n",
       "      <td>5</td>\n",
       "    </tr>\n",
       "    <tr>\n",
       "      <th>4</th>\n",
       "      <td>4</td>\n",
       "      <td>4</td>\n",
       "    </tr>\n",
       "  </tbody>\n",
       "</table>\n",
       "</div>"
      ],
      "text/plain": [
       "   node_count  cam_count\n",
       "0           0         24\n",
       "1           1          4\n",
       "2           2          2\n",
       "3           3          5\n",
       "4           4          4"
      ]
     },
     "execution_count": 23,
     "metadata": {},
     "output_type": "execute_result"
    }
   ],
   "source": [
    "#get a df of the number of cams per node count\n",
    "node_count_df = pd.DataFrame(cam_GLI_df.groupby('node_count',as_index=False).count()[['node_count','edge_count']]).rename(columns={'edge_count':'cam_count'})\n",
    "node_count_df.head(5) #Look at first 5 rows of data frame"
   ]
  },
  {
   "cell_type": "markdown",
   "metadata": {},
   "source": [
    "#### Look at histogram of node count"
   ]
  },
  {
   "cell_type": "code",
   "execution_count": 24,
   "metadata": {},
   "outputs": [
    {
     "data": {
      "text/plain": [
       "Text(0.5, 1.0, 'Distribution of Node Count')"
      ]
     },
     "execution_count": 24,
     "metadata": {},
     "output_type": "execute_result"
    },
    {
     "data": {
      "image/png": "[encoded data removed]",
      "text/plain": [
       "<Figure size 360x360 with 1 Axes>"
      ]
     },
     "metadata": {
      "needs_background": "light"
     },
     "output_type": "display_data"
    }
   ],
   "source": [
    "fig, axs = plt.subplots(figsize=(5,5),sharey=True, tight_layout=True)\n",
    "\n",
    "# We can set the number of bins with the `bins` kwarg\n",
    "axs.hist(cam_GLI_df['node_count'])\n",
    "axs.set_title('Distribution of Node Count')\n"
   ]
  },
  {
   "cell_type": "markdown",
   "metadata": {},
   "source": [
    "# 5) Simulations"
   ]
  },
  {
   "cell_type": "markdown",
   "metadata": {},
   "source": [
    "### 5.A) Rhea Approach\n",
    "#### Compare GLI from CAM with measures that would be expected from a randomly generated graph <br> assumption: graph probability distribution is uniform, conditioned on size"
   ]
  },
  {
   "cell_type": "code",
   "execution_count": 25,
   "metadata": {},
   "outputs": [
    {
     "name": "stderr",
     "output_type": "stream",
     "text": [
      "/Users/agetecza/opt/anaconda3/envs/PythonEnv/lib/python3.7/site-packages/dask/config.py:168: YAMLLoadWarning:\n",
      "\n",
      "calling yaml.load() without Loader=... is deprecated, as the default Loader is unsafe. Please read https://msg.pyyaml.org/load for full details.\n",
      "\n"
     ]
    }
   ],
   "source": [
    "#Additional imports\n",
    "import pymc3 as pm\n",
    "import arviz as az\n",
    "import random"
   ]
  },
  {
   "cell_type": "code",
   "execution_count": 26,
   "metadata": {},
   "outputs": [
    {
     "data": {
      "text/plain": [
       "2"
      ]
     },
     "execution_count": 26,
     "metadata": {},
     "output_type": "execute_result"
    }
   ],
   "source": [
    "cam_id = my_id_list[21] #Use only one to start\n",
    "df_blocks = pd.read_csv(f'{my_filepath}/{cam_id}_blocks.csv')\n",
    "links_df = pd.read_csv(f'{my_filepath}/{cam_id}_links.csv')\n",
    "#df_blocks\n",
    "df_blocks[df_blocks['shape']=='neutral'].count()[0]"
   ]
  },
  {
   "cell_type": "code",
   "execution_count": 27,
   "metadata": {},
   "outputs": [
    {
     "name": "stdout",
     "output_type": "stream",
     "text": [
      "108.0\n"
     ]
    }
   ],
   "source": [
    "# Create distance matrix\n",
    "D = np.zeros((7,7))  # We have seven node types hence 7 (note that we consider ambivalent as the same as neutral in this calculation)\n",
    "dist_ = np.arange(7)\n",
    "for i in range(7):\n",
    "    D[i,i:] = dist_\n",
    "    D[i:,i] = dist_\n",
    "    dist_ = dist_[:-1]\n",
    "\n",
    "def calculate_diversity(D, probs):\n",
    "    \"\"\"\n",
    "    Calculate Stirling Diversity measure with alpha = beta = 1\n",
    "    Args:\n",
    "        param: D - Distance Matrix\n",
    "        param: probs - list of probabilities in order of Strong Negative, Negative, Weak Negative, Neutral, Weak Positive, Positive, Strong Positive\n",
    "    \"\"\"\n",
    "    S = 0\n",
    "    for i in range(7):\n",
    "        for j in range(7):\n",
    "            S += D[i, j]*probs[i]*probs[j]\n",
    "    return S\n",
    "# Get probabilities of each type of node -- used for diversity calculation\n",
    "neg_strong = df_blocks[df_blocks['shape']=='negative strong'].count()[0]\n",
    "neg = df_blocks[df_blocks['shape']=='negative'].count()[0]\n",
    "neg_weak = df_blocks[df_blocks['shape']=='negative weak'].count()[0]\n",
    "neutral = df_blocks[(df_blocks['shape']=='neutral') & (df_blocks['shape']=='ambivalent')].count()[0]\n",
    "pos_weak = df_blocks[df_blocks['shape']=='positive weak'].count()[0]\n",
    "pos = df_blocks[df_blocks['shape']=='positive'].count()[0]\n",
    "pos_strong = df_blocks[df_blocks['shape']=='positive strong'].count()[0]\n",
    "probs = [neg_strong, neg, neg_weak, neutral, pos_weak, pos, pos_strong]\n",
    "true_div = calculate_diversity(D, probs)\n",
    "print(true_div)"
   ]
  },
  {
   "cell_type": "code",
   "execution_count": 28,
   "metadata": {},
   "outputs": [],
   "source": [
    "# Create n random graphs with the same number of nodes and edges\n",
    "random_graphs = []\n",
    "\n",
    "div_vals = []\n",
    "\n",
    "n_ = 1000\n",
    "\n",
    "for i in range(n_):\n",
    "    random_graph = nx.gnm_random_graph(len(blocks_df), len(links_df))\n",
    "    random_graphs.append(random_graph)\n",
    "    \n",
    "    # Get probabilities of each type of node -- used for diversity calculation\n",
    "    neg_strong = df_blocks[df_blocks['shape']=='negative strong'].count()[0]\n",
    "    neg = df_blocks[df_blocks['shape']=='negative'].count()[0]\n",
    "    neg_weak = df_blocks[df_blocks['shape']=='negative weak'].count()[0]\n",
    "    neutral = df_blocks[(df_blocks['shape']=='neutral') & (df_blocks['shape']=='ambivalent')].count()[0]\n",
    "    pos_weak = df_blocks[df_blocks['shape']=='positive weak'].count()[0]\n",
    "    pos = df_blocks[df_blocks['shape']=='positive'].count()[0]\n",
    "    pos_strong = df_blocks[df_blocks['shape']=='positive strong'].count()[0]\n",
    "    probs = [neg_strong, neg, neg_weak, neutral, pos_weak, pos, pos_strong]\n",
    "    \n",
    "    \n",
    "    # Randomly assign valences to each node\n",
    "    probs_rand = []\n",
    "    for node in random_graph.nodes(data=True):\n",
    "        shape_type_rand = random.choices([-3,-2,-1,0,1,2,3], weights=probs, k=1)[0]\n",
    "        node[1]['shape_num'] = shape_type_rand\n",
    "        probs_rand.append(shape_type_rand)\n",
    "        \n",
    "    # Calculate random graph node probabilities\n",
    "    probs_rand = [probs_rand.count(-3), probs_rand.count(-2), probs_rand.count(-1), probs_rand.count(0), probs_rand.count(1), probs_rand.count(2), probs_rand.count(3)]\n",
    "    \n",
    "    # Calculate the diversity of each graph\n",
    "    div_ = calculate_diversity(D, probs_rand)\n",
    "    div_vals.append(div_)"
   ]
  },
  {
   "cell_type": "code",
   "execution_count": 29,
   "metadata": {},
   "outputs": [
    {
     "name": "stdout",
     "output_type": "stream",
     "text": [
      "182\n"
     ]
    }
   ],
   "source": [
    "# Calculate the number of instances with a similar diversity\n",
    "insts_div = 0\n",
    "for div_ in div_vals:\n",
    "    if div_ - true_div < 100:\n",
    "        insts_div += 1\n",
    "    else:\n",
    "        pass\n",
    "print(insts_div)"
   ]
  },
  {
   "cell_type": "code",
   "execution_count": null,
   "metadata": {},
   "outputs": [],
   "source": [
    "# Calculate probability of replicating using Bayesian stats\n",
    "alphas = np.array([1, 1])\n",
    "c = np.array([insts_div, n_-insts_div])\n",
    "\n",
    "# Create model\n",
    "with pm.Model() as model:\n",
    "    # Parameters of the Multinomial are from a Dirichlet\n",
    "    parameters = pm.Dirichlet('parameters', a=alphas, shape=2)\n",
    "    # Observed data is from a Multinomial distribution\n",
    "    observed_data = pm.Multinomial(\n",
    "        'observed_data', n=n_, p=parameters, shape=2, observed=c)    "
   ]
  },
  {
   "cell_type": "code",
   "execution_count": 59,
   "metadata": {},
   "outputs": [
    {
     "name": "stderr",
     "output_type": "stream",
     "text": [
      "/Users/agetecza/opt/anaconda3/envs/PythonEnv/lib/python3.7/site-packages/pymc3/sampling.py:469: FutureWarning:\n",
      "\n",
      "In an upcoming release, pm.sample will return an `arviz.InferenceData` object instead of a `MultiTrace` by default. You can pass return_inferencedata=True or return_inferencedata=False to be safe and silence this warning.\n",
      "\n",
      "Auto-assigning NUTS sampler...\n",
      "Initializing NUTS using jitter+adapt_diag...\n",
      "Multiprocess sampling (2 chains in 2 jobs)\n",
      "NUTS: [parameters]\n"
     ]
    },
    {
     "data": {
      "text/html": [
       "\n",
       "    <div>\n",
       "        <style>\n",
       "            /* Turns off some styling */\n",
       "            progress {\n",
       "                /* gets rid of default border in Firefox and Opera. */\n",
       "                border: none;\n",
       "                /* Needs to be in here for Safari polyfill so background images work as expected. */\n",
       "                background-size: auto;\n",
       "            }\n",
       "            .progress-bar-interrupted, .progress-bar-interrupted::-webkit-progress-bar {\n",
       "                background: #F44336;\n",
       "            }\n",
       "        </style>\n",
       "      <progress value='3000' class='' max='3000' style='width:300px; height:20px; vertical-align: middle;'></progress>\n",
       "      100.00% [3000/3000 00:05<00:00 Sampling 2 chains, 0 divergences]\n",
       "    </div>\n",
       "    "
      ],
      "text/plain": [
       "<IPython.core.display.HTML object>"
      ]
     },
     "metadata": {},
     "output_type": "display_data"
    },
    {
     "name": "stderr",
     "output_type": "stream",
     "text": [
      "Sampling 2 chains for 500 tune and 1_000 draw iterations (1_000 + 2_000 draws total) took 20 seconds.\n"
     ]
    }
   ],
   "source": [
    "with model:\n",
    "    # Sample from the posterior\n",
    "    trace = pm.sample(draws=1000, chains=2, tune=500, \n",
    "                      discard_tuned_samples=True)"
   ]
  },
  {
   "cell_type": "code",
   "execution_count": 60,
   "metadata": {},
   "outputs": [
    {
     "name": "stderr",
     "output_type": "stream",
     "text": [
      "/Users/agetecza/opt/anaconda3/envs/PythonEnv/lib/python3.7/site-packages/arviz/data/io_pymc3.py:92: FutureWarning:\n",
      "\n",
      "Using `from_pymc3` without the model will be deprecated in a future release. Not using the model will return less accurate and less useful results. Make sure you use the model argument or call from_pymc3 within a model context.\n",
      "\n"
     ]
    },
    {
     "name": "stdout",
     "output_type": "stream",
     "text": [
      "<bound method DataFrame.mean of                 mean     sd  hdi_3%  hdi_97%\n",
      "parameters[0]  0.163  0.012   0.142    0.185\n",
      "parameters[1]  0.837  0.012   0.815    0.858>\n"
     ]
    }
   ],
   "source": [
    "print(az.summary(trace, kind=\"stats\").mean)"
   ]
  },
  {
   "cell_type": "markdown",
   "metadata": {},
   "source": [
    "### 5.B) Anderson et al. Approach\n",
    "#### Compare GLI from CAM with measures that would be expected from a randomly generated graph <br> assumption: graph probability distribution is uniform, conditioned on size and density\n",
    " (all graphs of given size and density are equally probable)"
   ]
  },
  {
   "cell_type": "code",
   "execution_count": 66,
   "metadata": {},
   "outputs": [
    {
     "data": {
      "text/plain": [
       "['triadic_closure',\n",
       " 'central_node',\n",
       " 'central_node_title',\n",
       " 'central_node_val',\n",
       " 'central_node_val_eig',\n",
       " 'central_node_val_bet']"
      ]
     },
     "execution_count": 66,
     "metadata": {},
     "output_type": "execute_result"
    }
   ],
   "source": [
    "#Select only a few measures to test at first\n",
    "col_list = list(cam_GLI_df.columns)\n",
    "GLI_list = col_list[13:20]\n",
    "GLI_list"
   ]
  },
  {
   "cell_type": "code",
   "execution_count": 70,
   "metadata": {},
   "outputs": [],
   "source": [
    "GLI_name = GLI_list[4]\n",
    "\n",
    "P_H = 0\n",
    "P_L = 0\n",
    "P_E = 0\n",
    "N = 0 \n",
    "\n",
    "N_max = 100 #number of iterations\n",
    "\n",
    "alpha = .05 # desired level of significance\n",
    "\n",
    "condition_list = []\n",
    "sig_cam_list = []\n",
    "nonsig_cam_list = []\n",
    "\n",
    "for i in range(len(cam_GLI_df)):\n",
    "    \n",
    "    Obs_GLI = cam_GLI_df[GLI_name][i] #observed GLI from row i\n",
    "\n",
    "    n = cam_GLI_df['node_count'][i] # number of nodes for cam i\n",
    "    m = cam_GLI_df['edge_count'][i]  # number of edges for cam i\n",
    "\n",
    "    while N < N_max:\n",
    "\n",
    "        # STEP 2: Make the random graph\n",
    "        G_uni = nx.gnm_random_graph(n, m)\n",
    "\n",
    "\n",
    "        #Get the necessary GLI measures\n",
    "        # Calculate Density\n",
    "        density = np.round(nx.density(G_uni), 3)\n",
    "\n",
    "        # Calculate longest path\n",
    "        try:\n",
    "            components = nx.connected_components(G_uni)\n",
    "            largest_component = max(components, key=len)\n",
    "            subgraph = G_uni.subgraph(largest_component)\n",
    "            diameter = nx.diameter(subgraph)\n",
    "        except:\n",
    "            diameter = 0\n",
    "        # Calculate transitivity\n",
    "        triadic_closure = np.round(nx.transitivity(G_uni), 3)\n",
    "\n",
    "        # Calculate max degree\n",
    "        try:\n",
    "            degree_centrality = nx.degree_centrality(G_uni)\n",
    "            max_centrality_ind = np.argmax(list(degree_centrality.values()))\n",
    "            central_node_val = np.round(list(degree_centrality.values())[max_centrality_ind], 3)\n",
    "        except:\n",
    "            central_node_val = 0\n",
    "\n",
    "        # Eigenvector Centrality\n",
    "        try:\n",
    "            eigenvector_centrality = nx.eigenvector_centrality(G_uni)\n",
    "            max_centrality_ind = np.argmax(list(eigenvector_centrality.values()))\n",
    "            central_node_val_eig = np.round(list(eigenvector_centrality.values())[max_centrality_ind], 3)\n",
    "        except:\n",
    "            central_node_val_eig = 0\n",
    "\n",
    "        # Betweeness Centrality\n",
    "        try:\n",
    "            betweenness_centrality = nx.betweenness_centrality(G_uni)\n",
    "            max_centrality_ind = np.argmax(list(betweenness_centrality.values()))\n",
    "            central_node_val_bet = np.round(list(betweenness_centrality.values())[max_centrality_ind], 3)\n",
    "        except:\n",
    "            central_node_val_bet = 0\n",
    "\n",
    "        # Make the dictionary\n",
    "        G_uni_GLI_dict = {\n",
    "            'central_node_val': central_node_val,\n",
    "            'central_node_val_eig': central_node_val_eig,\n",
    "            'central_node_val_bet': central_node_val_bet\n",
    "        }\n",
    "\n",
    "        #STEP 3 - \n",
    "        \n",
    "        if G_uni_GLI_dict[GLI_name] > Obs_GLI:\n",
    "            P_H = P_H + 1\n",
    "\n",
    "        elif G_uni_GLI_dict[GLI_name] < Obs_GLI:\n",
    "            P_L = P_L +1\n",
    "\n",
    "        #increment N for each iteration till max is reached\n",
    "        N = N + 1\n",
    "\n",
    "    #Step 5 - This tests whether the observed GLI is consistently either higher or lower than the GLI predicted\n",
    "    # by a random graph. \n",
    "    condition_1 = (P_H/N_max) < (alpha/2)\n",
    "    condition_2 = (P_L/N_max) < (alpha/2)\n",
    "    \n",
    "    condition_list.append((P_H/N_max, P_L/N_max))\n",
    "\n",
    "    #Step 6 - generate a list of the cams that were sig and those that were not\n",
    "    if condition_1 | condition_2:\n",
    "        \n",
    "        sig_cam_list.append(cam_GLI_df['cam_id'][i])\n",
    "    \n",
    "    else:\n",
    "        nonsig_cam_list.append(cam_GLI_df['cam_id'][i])"
   ]
  },
  {
   "cell_type": "code",
   "execution_count": 76,
   "metadata": {},
   "outputs": [
    {
     "name": "stdout",
     "output_type": "stream",
     "text": [
      "ration of nonsig:sig = 0:158\n"
     ]
    }
   ],
   "source": [
    "#Percent of significant cams:\n",
    "print(f'ration of nonsig:sig = {len(nonsig_cam_list)}:{len(sig_cam_list)}')"
   ]
  },
  {
   "cell_type": "markdown",
   "metadata": {},
   "source": [
    "# 6) Combine Survey Info & CAM data"
   ]
  },
  {
   "cell_type": "markdown",
   "metadata": {},
   "source": [
    "### 6.A) Bring in Survey Data"
   ]
  },
  {
   "cell_type": "code",
   "execution_count": 77,
   "metadata": {},
   "outputs": [
    {
     "data": {
      "text/html": [
       "<div>\n",
       "<style scoped>\n",
       "    .dataframe tbody tr th:only-of-type {\n",
       "        vertical-align: middle;\n",
       "    }\n",
       "\n",
       "    .dataframe tbody tr th {\n",
       "        vertical-align: top;\n",
       "    }\n",
       "\n",
       "    .dataframe thead th {\n",
       "        text-align: right;\n",
       "    }\n",
       "</style>\n",
       "<table border=\"1\" class=\"dataframe\">\n",
       "  <thead>\n",
       "    <tr style=\"text-align: right;\">\n",
       "      <th></th>\n",
       "      <th>StartDate</th>\n",
       "      <th>EndDate</th>\n",
       "      <th>Status</th>\n",
       "      <th>IPAddress</th>\n",
       "      <th>Progress</th>\n",
       "      <th>Duration (in seconds)</th>\n",
       "      <th>Finished</th>\n",
       "      <th>RecordedDate</th>\n",
       "      <th>ResponseId</th>\n",
       "      <th>RecipientLastName</th>\n",
       "      <th>...</th>\n",
       "      <th>WilsonPat_5</th>\n",
       "      <th>WilsonPat_6</th>\n",
       "      <th>WilsonPat_7</th>\n",
       "      <th>WilsonPat_8</th>\n",
       "      <th>WilsonPat_9</th>\n",
       "      <th>WilsonPat_10</th>\n",
       "      <th>WilsonPat_11</th>\n",
       "      <th>WilsonPat_12</th>\n",
       "      <th>CheckNum</th>\n",
       "      <th>mTurkCode2</th>\n",
       "    </tr>\n",
       "  </thead>\n",
       "  <tbody>\n",
       "    <tr>\n",
       "      <th>0</th>\n",
       "      <td>2021-01-11 11:46</td>\n",
       "      <td>2021-01-11 11:46</td>\n",
       "      <td>0</td>\n",
       "      <td>50.69.196.183</td>\n",
       "      <td>100</td>\n",
       "      <td>8</td>\n",
       "      <td>1</td>\n",
       "      <td>2021-01-11 11:46</td>\n",
       "      <td>R_2ZQySv7eilk1BhL</td>\n",
       "      <td>NaN</td>\n",
       "      <td>...</td>\n",
       "      <td>NaN</td>\n",
       "      <td>NaN</td>\n",
       "      <td>NaN</td>\n",
       "      <td>NaN</td>\n",
       "      <td>NaN</td>\n",
       "      <td>NaN</td>\n",
       "      <td>NaN</td>\n",
       "      <td>NaN</td>\n",
       "      <td>NaN</td>\n",
       "      <td>NaN</td>\n",
       "    </tr>\n",
       "    <tr>\n",
       "      <th>1</th>\n",
       "      <td>2021-01-11 11:48</td>\n",
       "      <td>2021-01-11 11:59</td>\n",
       "      <td>0</td>\n",
       "      <td>50.69.196.183</td>\n",
       "      <td>100</td>\n",
       "      <td>660</td>\n",
       "      <td>1</td>\n",
       "      <td>2021-01-11 11:59</td>\n",
       "      <td>R_8erRxEBvfzDsLGp</td>\n",
       "      <td>NaN</td>\n",
       "      <td>...</td>\n",
       "      <td>NaN</td>\n",
       "      <td>NaN</td>\n",
       "      <td>NaN</td>\n",
       "      <td>NaN</td>\n",
       "      <td>NaN</td>\n",
       "      <td>NaN</td>\n",
       "      <td>NaN</td>\n",
       "      <td>NaN</td>\n",
       "      <td>NaN</td>\n",
       "      <td>NaN</td>\n",
       "    </tr>\n",
       "    <tr>\n",
       "      <th>2</th>\n",
       "      <td>2021-01-11 11:51</td>\n",
       "      <td>2021-01-11 12:01</td>\n",
       "      <td>0</td>\n",
       "      <td>69.158.246.27</td>\n",
       "      <td>100</td>\n",
       "      <td>635</td>\n",
       "      <td>1</td>\n",
       "      <td>2021-01-11 12:01</td>\n",
       "      <td>R_xgzbLgWncp56ACJ</td>\n",
       "      <td>NaN</td>\n",
       "      <td>...</td>\n",
       "      <td>NaN</td>\n",
       "      <td>NaN</td>\n",
       "      <td>NaN</td>\n",
       "      <td>NaN</td>\n",
       "      <td>NaN</td>\n",
       "      <td>NaN</td>\n",
       "      <td>NaN</td>\n",
       "      <td>NaN</td>\n",
       "      <td>NaN</td>\n",
       "      <td>NaN</td>\n",
       "    </tr>\n",
       "    <tr>\n",
       "      <th>3</th>\n",
       "      <td>2021-01-11 12:01</td>\n",
       "      <td>2021-01-11 12:13</td>\n",
       "      <td>0</td>\n",
       "      <td>24.212.224.202</td>\n",
       "      <td>100</td>\n",
       "      <td>739</td>\n",
       "      <td>1</td>\n",
       "      <td>2021-01-11 12:13</td>\n",
       "      <td>R_3rOr7B1NkrQgen5</td>\n",
       "      <td>NaN</td>\n",
       "      <td>...</td>\n",
       "      <td>NaN</td>\n",
       "      <td>NaN</td>\n",
       "      <td>NaN</td>\n",
       "      <td>NaN</td>\n",
       "      <td>NaN</td>\n",
       "      <td>NaN</td>\n",
       "      <td>NaN</td>\n",
       "      <td>NaN</td>\n",
       "      <td>NaN</td>\n",
       "      <td>NaN</td>\n",
       "    </tr>\n",
       "    <tr>\n",
       "      <th>4</th>\n",
       "      <td>2021-01-11 12:04</td>\n",
       "      <td>2021-01-11 12:18</td>\n",
       "      <td>0</td>\n",
       "      <td>24.77.79.89</td>\n",
       "      <td>100</td>\n",
       "      <td>820</td>\n",
       "      <td>1</td>\n",
       "      <td>2021-01-11 12:18</td>\n",
       "      <td>R_1KdKzGSFXHqdKef</td>\n",
       "      <td>NaN</td>\n",
       "      <td>...</td>\n",
       "      <td>2.0</td>\n",
       "      <td>1.0</td>\n",
       "      <td>2.0</td>\n",
       "      <td>1.0</td>\n",
       "      <td>2.0</td>\n",
       "      <td>1.0</td>\n",
       "      <td>1.0</td>\n",
       "      <td>1.0</td>\n",
       "      <td>1.0</td>\n",
       "      <td>8165033.0</td>\n",
       "    </tr>\n",
       "  </tbody>\n",
       "</table>\n",
       "<p>5 rows × 181 columns</p>\n",
       "</div>"
      ],
      "text/plain": [
       "          StartDate           EndDate  Status       IPAddress  Progress  \\\n",
       "0  2021-01-11 11:46  2021-01-11 11:46       0   50.69.196.183       100   \n",
       "1  2021-01-11 11:48  2021-01-11 11:59       0   50.69.196.183       100   \n",
       "2  2021-01-11 11:51  2021-01-11 12:01       0   69.158.246.27       100   \n",
       "3  2021-01-11 12:01  2021-01-11 12:13       0  24.212.224.202       100   \n",
       "4  2021-01-11 12:04  2021-01-11 12:18       0     24.77.79.89       100   \n",
       "\n",
       "   Duration (in seconds)  Finished      RecordedDate         ResponseId  \\\n",
       "0                      8         1  2021-01-11 11:46  R_2ZQySv7eilk1BhL   \n",
       "1                    660         1  2021-01-11 11:59  R_8erRxEBvfzDsLGp   \n",
       "2                    635         1  2021-01-11 12:01  R_xgzbLgWncp56ACJ   \n",
       "3                    739         1  2021-01-11 12:13  R_3rOr7B1NkrQgen5   \n",
       "4                    820         1  2021-01-11 12:18  R_1KdKzGSFXHqdKef   \n",
       "\n",
       "   RecipientLastName  ...  WilsonPat_5  WilsonPat_6  WilsonPat_7  WilsonPat_8  \\\n",
       "0                NaN  ...          NaN          NaN          NaN          NaN   \n",
       "1                NaN  ...          NaN          NaN          NaN          NaN   \n",
       "2                NaN  ...          NaN          NaN          NaN          NaN   \n",
       "3                NaN  ...          NaN          NaN          NaN          NaN   \n",
       "4                NaN  ...          2.0          1.0          2.0          1.0   \n",
       "\n",
       "   WilsonPat_9 WilsonPat_10 WilsonPat_11  WilsonPat_12  CheckNum mTurkCode2  \n",
       "0          NaN          NaN          NaN           NaN       NaN        NaN  \n",
       "1          NaN          NaN          NaN           NaN       NaN        NaN  \n",
       "2          NaN          NaN          NaN           NaN       NaN        NaN  \n",
       "3          NaN          NaN          NaN           NaN       NaN        NaN  \n",
       "4          2.0          1.0          1.0           1.0       1.0  8165033.0  \n",
       "\n",
       "[5 rows x 181 columns]"
      ]
     },
     "execution_count": 77,
     "metadata": {},
     "output_type": "execute_result"
    }
   ],
   "source": [
    "#Bring in survey data\n",
    "file_path_survey = 'Your file path here'\n",
    "survey_df = pd.read_csv(file_path_survey)\n",
    "survey_df.head()"
   ]
  },
  {
   "cell_type": "code",
   "execution_count": 78,
   "metadata": {},
   "outputs": [
    {
     "data": {
      "text/plain": [
       "251"
      ]
     },
     "execution_count": 78,
     "metadata": {},
     "output_type": "execute_result"
    }
   ],
   "source": [
    "#Count of survey\n",
    "len(survey_df)"
   ]
  },
  {
   "cell_type": "code",
   "execution_count": 79,
   "metadata": {},
   "outputs": [],
   "source": [
    "#drop NAs\n",
    "survey_df_dropna = survey_df.dropna(subset=['Prolific1','Gender'])"
   ]
  },
  {
   "cell_type": "markdown",
   "metadata": {},
   "source": [
    "### 6.B) Merge Survey with CAM data"
   ]
  },
  {
   "cell_type": "code",
   "execution_count": 80,
   "metadata": {},
   "outputs": [],
   "source": [
    "#Get the cam dataframe ready to merge with the survey data\n",
    "cam_GLI_full = cam_GLI_df.copy()\n",
    "Prolific1_list=cam_GLI_full['cam_id'].str.split('_').str[0]\n",
    "cam_GLI_full.insert(loc=0, column='Prolific1', value=Prolific1_list)\n",
    "cam_GLI_full = cam_GLI_full.drop(cam_GLI_full.columns[1], axis=1)"
   ]
  },
  {
   "cell_type": "code",
   "execution_count": 81,
   "metadata": {},
   "outputs": [
    {
     "name": "stdout",
     "output_type": "stream",
     "text": [
      "The length of cam_df: 158\n",
      "The length of survey_df: 141\n"
     ]
    }
   ],
   "source": [
    "print(f'The length of cam_df: {len(cam_GLI_full)}')\n",
    "print(f'The length of survey_df: {len(survey_df_dropna)}')"
   ]
  },
  {
   "cell_type": "code",
   "execution_count": 82,
   "metadata": {},
   "outputs": [],
   "source": [
    "survey_cam_merge = pd.merge(cam_GLI_full, survey_df_dropna, how = 'inner', on = 'Prolific1')"
   ]
  },
  {
   "cell_type": "code",
   "execution_count": 83,
   "metadata": {},
   "outputs": [
    {
     "name": "stdout",
     "output_type": "stream",
     "text": [
      "The length of merged data: 120\n"
     ]
    }
   ],
   "source": [
    "print(f'The length of merged data: {len(survey_cam_merge)}')"
   ]
  },
  {
   "cell_type": "markdown",
   "metadata": {},
   "source": [
    "### 6.C) Cleaning the combined dataframe"
   ]
  },
  {
   "cell_type": "markdown",
   "metadata": {},
   "source": [
    "#### Drop all rows with node_count less than 3 or link_count less than 2"
   ]
  },
  {
   "cell_type": "code",
   "execution_count": 84,
   "metadata": {},
   "outputs": [],
   "source": [
    "filter_cam = (survey_cam_merge['node_count']>3) & (survey_cam_merge['edge_count']>2)\n",
    "survey_merge_large_cam = survey_cam_merge[filter_cam]"
   ]
  },
  {
   "cell_type": "code",
   "execution_count": 85,
   "metadata": {},
   "outputs": [
    {
     "name": "stdout",
     "output_type": "stream",
     "text": [
      "113 rows have more than 3 nodes and more than 2 edges\n"
     ]
    }
   ],
   "source": [
    "print(f'{len(survey_merge_large_cam)} rows have more than 3 nodes and more than 2 edges')"
   ]
  },
  {
   "cell_type": "markdown",
   "metadata": {},
   "source": [
    "#### Look for duplicates"
   ]
  },
  {
   "cell_type": "code",
   "execution_count": 87,
   "metadata": {},
   "outputs": [],
   "source": [
    "survey_merge_large_cam = survey_merge_large_cam.reset_index(drop=True)"
   ]
  },
  {
   "cell_type": "code",
   "execution_count": 47,
   "metadata": {},
   "outputs": [
    {
     "data": {
      "text/html": [
       "<div>\n",
       "<style scoped>\n",
       "    .dataframe tbody tr th:only-of-type {\n",
       "        vertical-align: middle;\n",
       "    }\n",
       "\n",
       "    .dataframe tbody tr th {\n",
       "        vertical-align: top;\n",
       "    }\n",
       "\n",
       "    .dataframe thead th {\n",
       "        text-align: right;\n",
       "    }\n",
       "</style>\n",
       "<table border=\"1\" class=\"dataframe\">\n",
       "  <thead>\n",
       "    <tr style=\"text-align: right;\">\n",
       "      <th></th>\n",
       "      <th>Prolific1</th>\n",
       "      <th>node_count</th>\n",
       "      <th>edge_count</th>\n",
       "      <th>node_diversity</th>\n",
       "      <th>node_valence_1</th>\n",
       "      <th>node_valence_2</th>\n",
       "      <th>density</th>\n",
       "      <th>diameter</th>\n",
       "      <th>triadic_closure</th>\n",
       "      <th>central_node</th>\n",
       "      <th>...</th>\n",
       "      <th>WilsonPat_5</th>\n",
       "      <th>WilsonPat_6</th>\n",
       "      <th>WilsonPat_7</th>\n",
       "      <th>WilsonPat_8</th>\n",
       "      <th>WilsonPat_9</th>\n",
       "      <th>WilsonPat_10</th>\n",
       "      <th>WilsonPat_11</th>\n",
       "      <th>WilsonPat_12</th>\n",
       "      <th>CheckNum</th>\n",
       "      <th>mTurkCode2</th>\n",
       "    </tr>\n",
       "  </thead>\n",
       "  <tbody>\n",
       "    <tr>\n",
       "      <th>21</th>\n",
       "      <td>5f04cb284a1b587a33e1978d</td>\n",
       "      <td>14</td>\n",
       "      <td>15</td>\n",
       "      <td>2.530612</td>\n",
       "      <td>-1.14</td>\n",
       "      <td>-1.0</td>\n",
       "      <td>0.165</td>\n",
       "      <td>2</td>\n",
       "      <td>0.692</td>\n",
       "      <td>0</td>\n",
       "      <td>...</td>\n",
       "      <td>1.0</td>\n",
       "      <td>2.0</td>\n",
       "      <td>1.0</td>\n",
       "      <td>1.0</td>\n",
       "      <td>1.0</td>\n",
       "      <td>2.0</td>\n",
       "      <td>1.0</td>\n",
       "      <td>2.0</td>\n",
       "      <td>1.0</td>\n",
       "      <td>3646527.0</td>\n",
       "    </tr>\n",
       "  </tbody>\n",
       "</table>\n",
       "<p>1 rows × 194 columns</p>\n",
       "</div>"
      ],
      "text/plain": [
       "                   Prolific1  node_count  edge_count  node_diversity  \\\n",
       "21  5f04cb284a1b587a33e1978d          14          15        2.530612   \n",
       "\n",
       "    node_valence_1  node_valence_2  density  diameter  triadic_closure  \\\n",
       "21           -1.14            -1.0    0.165         2            0.692   \n",
       "\n",
       "    central_node  ... WilsonPat_5  WilsonPat_6  WilsonPat_7  WilsonPat_8  \\\n",
       "21             0  ...         1.0          2.0          1.0          1.0   \n",
       "\n",
       "   WilsonPat_9 WilsonPat_10  WilsonPat_11 WilsonPat_12  CheckNum  mTurkCode2  \n",
       "21         1.0          2.0           1.0          2.0       1.0   3646527.0  \n",
       "\n",
       "[1 rows x 194 columns]"
      ]
     },
     "execution_count": 47,
     "metadata": {},
     "output_type": "execute_result"
    }
   ],
   "source": [
    "survey_merge_large_cam[survey_merge_large_cam.duplicated()]"
   ]
  },
  {
   "cell_type": "markdown",
   "metadata": {},
   "source": [
    "### 6.D) Export data "
   ]
  },
  {
   "cell_type": "code",
   "execution_count": 86,
   "metadata": {},
   "outputs": [],
   "source": [
    "#Export df with all the columns\n",
    "survey_merge_large_cam.to_csv(\"/Users/agetecza/CAM_Data/AT_CAM/Data/clean_surveryCAM_df.csv\", index = False)"
   ]
  },
  {
   "cell_type": "markdown",
   "metadata": {},
   "source": [
    "# 7) Summary Statistics"
   ]
  },
  {
   "cell_type": "markdown",
   "metadata": {},
   "source": [
    "### 7.A) Select Variables for Analysis"
   ]
  },
  {
   "cell_type": "code",
   "execution_count": 88,
   "metadata": {},
   "outputs": [],
   "source": [
    "#Get list of all column/variables names\n",
    "survey_column_list = list(survey_merge_large_cam.columns)\n",
    "#survey_column_list"
   ]
  },
  {
   "cell_type": "code",
   "execution_count": 91,
   "metadata": {},
   "outputs": [],
   "source": [
    "#Get all the controls\n",
    "control_list_1 = ['Age','Education','Income','English','Gender','CarbFam','CarbSFam']\n",
    "control_list_Cog = survey_column_list[108:126]\n",
    "control_list_Aff = survey_column_list[126:152]\n",
    "control_list_KN = survey_column_list[173:180]\n",
    "\n",
    "control_list = control_list_1 + control_list_Aff + control_list_Cog + control_list_KN"
   ]
  },
  {
   "cell_type": "code",
   "execution_count": 94,
   "metadata": {},
   "outputs": [
    {
     "data": {
      "text/html": [
       "<div>\n",
       "<style scoped>\n",
       "    .dataframe tbody tr th:only-of-type {\n",
       "        vertical-align: middle;\n",
       "    }\n",
       "\n",
       "    .dataframe tbody tr th {\n",
       "        vertical-align: top;\n",
       "    }\n",
       "\n",
       "    .dataframe thead th {\n",
       "        text-align: right;\n",
       "    }\n",
       "</style>\n",
       "<table border=\"1\" class=\"dataframe\">\n",
       "  <thead>\n",
       "    <tr style=\"text-align: right;\">\n",
       "      <th></th>\n",
       "      <th>count</th>\n",
       "      <th>mean</th>\n",
       "      <th>std</th>\n",
       "      <th>min</th>\n",
       "      <th>25%</th>\n",
       "      <th>50%</th>\n",
       "      <th>75%</th>\n",
       "      <th>max</th>\n",
       "    </tr>\n",
       "  </thead>\n",
       "  <tbody>\n",
       "    <tr>\n",
       "      <th>Age</th>\n",
       "      <td>113.0</td>\n",
       "      <td>33.097345</td>\n",
       "      <td>10.363022</td>\n",
       "      <td>18.0</td>\n",
       "      <td>25.0</td>\n",
       "      <td>32.0</td>\n",
       "      <td>39.0</td>\n",
       "      <td>67.0</td>\n",
       "    </tr>\n",
       "    <tr>\n",
       "      <th>Education</th>\n",
       "      <td>113.0</td>\n",
       "      <td>5.690265</td>\n",
       "      <td>1.086275</td>\n",
       "      <td>2.0</td>\n",
       "      <td>5.0</td>\n",
       "      <td>6.0</td>\n",
       "      <td>6.0</td>\n",
       "      <td>8.0</td>\n",
       "    </tr>\n",
       "    <tr>\n",
       "      <th>Income</th>\n",
       "      <td>113.0</td>\n",
       "      <td>5.876106</td>\n",
       "      <td>2.882003</td>\n",
       "      <td>1.0</td>\n",
       "      <td>4.0</td>\n",
       "      <td>6.0</td>\n",
       "      <td>8.0</td>\n",
       "      <td>11.0</td>\n",
       "    </tr>\n",
       "    <tr>\n",
       "      <th>English</th>\n",
       "      <td>113.0</td>\n",
       "      <td>1.097345</td>\n",
       "      <td>0.297748</td>\n",
       "      <td>1.0</td>\n",
       "      <td>1.0</td>\n",
       "      <td>1.0</td>\n",
       "      <td>1.0</td>\n",
       "      <td>2.0</td>\n",
       "    </tr>\n",
       "    <tr>\n",
       "      <th>Gender</th>\n",
       "      <td>113.0</td>\n",
       "      <td>1.486726</td>\n",
       "      <td>0.502050</td>\n",
       "      <td>1.0</td>\n",
       "      <td>1.0</td>\n",
       "      <td>1.0</td>\n",
       "      <td>2.0</td>\n",
       "      <td>2.0</td>\n",
       "    </tr>\n",
       "    <tr>\n",
       "      <th>CarbFam</th>\n",
       "      <td>113.0</td>\n",
       "      <td>1.132743</td>\n",
       "      <td>0.472539</td>\n",
       "      <td>1.0</td>\n",
       "      <td>1.0</td>\n",
       "      <td>1.0</td>\n",
       "      <td>1.0</td>\n",
       "      <td>3.0</td>\n",
       "    </tr>\n",
       "    <tr>\n",
       "      <th>CarbSFam</th>\n",
       "      <td>113.0</td>\n",
       "      <td>3.212389</td>\n",
       "      <td>0.784348</td>\n",
       "      <td>1.0</td>\n",
       "      <td>3.0</td>\n",
       "      <td>3.0</td>\n",
       "      <td>4.0</td>\n",
       "      <td>5.0</td>\n",
       "    </tr>\n",
       "  </tbody>\n",
       "</table>\n",
       "</div>"
      ],
      "text/plain": [
       "           count       mean        std   min   25%   50%   75%   max\n",
       "Age        113.0  33.097345  10.363022  18.0  25.0  32.0  39.0  67.0\n",
       "Education  113.0   5.690265   1.086275   2.0   5.0   6.0   6.0   8.0\n",
       "Income     113.0   5.876106   2.882003   1.0   4.0   6.0   8.0  11.0\n",
       "English    113.0   1.097345   0.297748   1.0   1.0   1.0   1.0   2.0\n",
       "Gender     113.0   1.486726   0.502050   1.0   1.0   1.0   2.0   2.0\n",
       "CarbFam    113.0   1.132743   0.472539   1.0   1.0   1.0   1.0   3.0\n",
       "CarbSFam   113.0   3.212389   0.784348   1.0   3.0   3.0   4.0   5.0"
      ]
     },
     "execution_count": 94,
     "metadata": {},
     "output_type": "execute_result"
    }
   ],
   "source": [
    "summary_df = pd.DataFrame(survey_merge_large_cam[control_list_1].describe()).transpose()\n",
    "summary_df"
   ]
  },
  {
   "cell_type": "code",
   "execution_count": 96,
   "metadata": {},
   "outputs": [],
   "source": [
    "#Get all variable\n",
    "end_network_index = survey_column_list.index('central_node_val_bet')\n",
    "network_list = survey_column_list[:end_network_index]\n",
    "dependent_list = ['CarbAg','Interest_1','CarbDecide']\n",
    "full_variable_list = network_list + dependent_list + control_list"
   ]
  },
  {
   "cell_type": "markdown",
   "metadata": {},
   "source": [
    "# Assumption Testing "
   ]
  },
  {
   "cell_type": "code",
   "execution_count": 97,
   "metadata": {},
   "outputs": [],
   "source": [
    "#subset df \n",
    "survey_df_analysis = survey_merge_large_cam.loc[:,full_variable_list]"
   ]
  },
  {
   "cell_type": "markdown",
   "metadata": {},
   "source": [
    "### Correlation "
   ]
  },
  {
   "cell_type": "code",
   "execution_count": 98,
   "metadata": {},
   "outputs": [
    {
     "data": {
      "text/plain": [
       "113"
      ]
     },
     "execution_count": 98,
     "metadata": {},
     "output_type": "execute_result"
    }
   ],
   "source": [
    "len(survey_df_analysis)"
   ]
  },
  {
   "cell_type": "code",
   "execution_count": 99,
   "metadata": {},
   "outputs": [],
   "source": [
    "#Clean up column order\n",
    "#column_order = list(np.arange(0,21))+list(np.arange(47,50))+list(np.arange(65,68))+list(np.arange(24,47))+list(np.arange(50,65))+list(np.arange(21,24))+list(np.arange(68,72))\n",
    "#survey_df_arrange = survey_df_analysis.iloc[:,column_order]\n",
    "#survey_df_arrange.head()"
   ]
  },
  {
   "cell_type": "code",
   "execution_count": 100,
   "metadata": {},
   "outputs": [],
   "source": [
    "correlation_matrix = survey_df_analysis.corr()"
   ]
  },
  {
   "cell_type": "code",
   "execution_count": 101,
   "metadata": {},
   "outputs": [
    {
     "data": {
      "text/plain": [
       "0.017156800126020423"
      ]
     },
     "execution_count": 101,
     "metadata": {},
     "output_type": "execute_result"
    }
   ],
   "source": [
    "correlation_matrix.iloc[7,5]"
   ]
  },
  {
   "cell_type": "code",
   "execution_count": 102,
   "metadata": {},
   "outputs": [],
   "source": [
    "corr_df = pd.DataFrame(columns = ['row','column','corr'])\n",
    "for i in range(len(correlation_matrix.columns)):\n",
    "    for j in range(len(correlation_matrix)):\n",
    "        if (correlation_matrix.iloc[i,j]>.6) & (correlation_matrix.iloc[i,j]!=1):\n",
    "            newrow = {'row':correlation_matrix.columns[i],'column':correlation_matrix.columns[j],'corr':correlation_matrix.iloc[i,j]}\n",
    "            corr_df = corr_df.append(newrow, ignore_index=True)\n",
    "            "
   ]
  },
  {
   "cell_type": "code",
   "execution_count": 103,
   "metadata": {},
   "outputs": [
    {
     "data": {
      "text/html": [
       "<div>\n",
       "<style scoped>\n",
       "    .dataframe tbody tr th:only-of-type {\n",
       "        vertical-align: middle;\n",
       "    }\n",
       "\n",
       "    .dataframe tbody tr th {\n",
       "        vertical-align: top;\n",
       "    }\n",
       "\n",
       "    .dataframe thead th {\n",
       "        text-align: right;\n",
       "    }\n",
       "</style>\n",
       "<table border=\"1\" class=\"dataframe\">\n",
       "  <thead>\n",
       "    <tr style=\"text-align: right;\">\n",
       "      <th></th>\n",
       "      <th>row</th>\n",
       "      <th>column</th>\n",
       "      <th>corr</th>\n",
       "    </tr>\n",
       "  </thead>\n",
       "  <tbody>\n",
       "    <tr>\n",
       "      <th>0</th>\n",
       "      <td>node_count</td>\n",
       "      <td>edge_count</td>\n",
       "      <td>0.842091</td>\n",
       "    </tr>\n",
       "    <tr>\n",
       "      <th>1</th>\n",
       "      <td>node_count</td>\n",
       "      <td>positive_nodes</td>\n",
       "      <td>0.759642</td>\n",
       "    </tr>\n",
       "    <tr>\n",
       "      <th>2</th>\n",
       "      <td>node_count</td>\n",
       "      <td>negative_nodes</td>\n",
       "      <td>0.738007</td>\n",
       "    </tr>\n",
       "    <tr>\n",
       "      <th>3</th>\n",
       "      <td>node_count</td>\n",
       "      <td>link_solid</td>\n",
       "      <td>0.845163</td>\n",
       "    </tr>\n",
       "    <tr>\n",
       "      <th>4</th>\n",
       "      <td>edge_count</td>\n",
       "      <td>node_count</td>\n",
       "      <td>0.842091</td>\n",
       "    </tr>\n",
       "    <tr>\n",
       "      <th>5</th>\n",
       "      <td>edge_count</td>\n",
       "      <td>positive_nodes</td>\n",
       "      <td>0.692700</td>\n",
       "    </tr>\n",
       "    <tr>\n",
       "      <th>6</th>\n",
       "      <td>edge_count</td>\n",
       "      <td>negative_nodes</td>\n",
       "      <td>0.607225</td>\n",
       "    </tr>\n",
       "    <tr>\n",
       "      <th>7</th>\n",
       "      <td>edge_count</td>\n",
       "      <td>link_solid</td>\n",
       "      <td>0.964363</td>\n",
       "    </tr>\n",
       "    <tr>\n",
       "      <th>8</th>\n",
       "      <td>positive_nodes</td>\n",
       "      <td>node_count</td>\n",
       "      <td>0.759642</td>\n",
       "    </tr>\n",
       "    <tr>\n",
       "      <th>9</th>\n",
       "      <td>positive_nodes</td>\n",
       "      <td>edge_count</td>\n",
       "      <td>0.692700</td>\n",
       "    </tr>\n",
       "    <tr>\n",
       "      <th>10</th>\n",
       "      <td>positive_nodes</td>\n",
       "      <td>link_solid</td>\n",
       "      <td>0.718000</td>\n",
       "    </tr>\n",
       "    <tr>\n",
       "      <th>11</th>\n",
       "      <td>negative_nodes</td>\n",
       "      <td>node_count</td>\n",
       "      <td>0.738007</td>\n",
       "    </tr>\n",
       "    <tr>\n",
       "      <th>12</th>\n",
       "      <td>negative_nodes</td>\n",
       "      <td>edge_count</td>\n",
       "      <td>0.607225</td>\n",
       "    </tr>\n",
       "    <tr>\n",
       "      <th>13</th>\n",
       "      <td>negative_nodes</td>\n",
       "      <td>link_solid</td>\n",
       "      <td>0.604319</td>\n",
       "    </tr>\n",
       "    <tr>\n",
       "      <th>14</th>\n",
       "      <td>link_solid</td>\n",
       "      <td>node_count</td>\n",
       "      <td>0.845163</td>\n",
       "    </tr>\n",
       "    <tr>\n",
       "      <th>15</th>\n",
       "      <td>link_solid</td>\n",
       "      <td>edge_count</td>\n",
       "      <td>0.964363</td>\n",
       "    </tr>\n",
       "    <tr>\n",
       "      <th>16</th>\n",
       "      <td>link_solid</td>\n",
       "      <td>positive_nodes</td>\n",
       "      <td>0.718000</td>\n",
       "    </tr>\n",
       "    <tr>\n",
       "      <th>17</th>\n",
       "      <td>link_solid</td>\n",
       "      <td>negative_nodes</td>\n",
       "      <td>0.604319</td>\n",
       "    </tr>\n",
       "    <tr>\n",
       "      <th>18</th>\n",
       "      <td>node_valence_1</td>\n",
       "      <td>node_valence_2</td>\n",
       "      <td>0.997517</td>\n",
       "    </tr>\n",
       "    <tr>\n",
       "      <th>19</th>\n",
       "      <td>node_valence_2</td>\n",
       "      <td>node_valence_1</td>\n",
       "      <td>0.997517</td>\n",
       "    </tr>\n",
       "    <tr>\n",
       "      <th>20</th>\n",
       "      <td>density</td>\n",
       "      <td>triadic_closure</td>\n",
       "      <td>0.696624</td>\n",
       "    </tr>\n",
       "    <tr>\n",
       "      <th>21</th>\n",
       "      <td>density</td>\n",
       "      <td>central_node_val</td>\n",
       "      <td>0.647375</td>\n",
       "    </tr>\n",
       "    <tr>\n",
       "      <th>22</th>\n",
       "      <td>triadic_closure</td>\n",
       "      <td>density</td>\n",
       "      <td>0.696624</td>\n",
       "    </tr>\n",
       "    <tr>\n",
       "      <th>23</th>\n",
       "      <td>central_node_val</td>\n",
       "      <td>density</td>\n",
       "      <td>0.647375</td>\n",
       "    </tr>\n",
       "    <tr>\n",
       "      <th>24</th>\n",
       "      <td>Aff6</td>\n",
       "      <td>Aff18</td>\n",
       "      <td>0.740150</td>\n",
       "    </tr>\n",
       "    <tr>\n",
       "      <th>25</th>\n",
       "      <td>Aff18</td>\n",
       "      <td>Aff6</td>\n",
       "      <td>0.740150</td>\n",
       "    </tr>\n",
       "    <tr>\n",
       "      <th>26</th>\n",
       "      <td>PartyComp</td>\n",
       "      <td>IndividComp</td>\n",
       "      <td>0.809675</td>\n",
       "    </tr>\n",
       "    <tr>\n",
       "      <th>27</th>\n",
       "      <td>IndividComp</td>\n",
       "      <td>PartyComp</td>\n",
       "      <td>0.809675</td>\n",
       "    </tr>\n",
       "    <tr>\n",
       "      <th>28</th>\n",
       "      <td>GlobalHarm_2</td>\n",
       "      <td>GlobalHarm_3</td>\n",
       "      <td>0.717919</td>\n",
       "    </tr>\n",
       "    <tr>\n",
       "      <th>29</th>\n",
       "      <td>GlobalHarm_3</td>\n",
       "      <td>GlobalHarm_2</td>\n",
       "      <td>0.717919</td>\n",
       "    </tr>\n",
       "    <tr>\n",
       "      <th>30</th>\n",
       "      <td>GlobalHarm_3</td>\n",
       "      <td>GlobalHarm_4</td>\n",
       "      <td>0.633472</td>\n",
       "    </tr>\n",
       "    <tr>\n",
       "      <th>31</th>\n",
       "      <td>GlobalHarm_3</td>\n",
       "      <td>GlobalHarm_5</td>\n",
       "      <td>0.637552</td>\n",
       "    </tr>\n",
       "    <tr>\n",
       "      <th>32</th>\n",
       "      <td>GlobalHarm_4</td>\n",
       "      <td>GlobalHarm_3</td>\n",
       "      <td>0.633472</td>\n",
       "    </tr>\n",
       "    <tr>\n",
       "      <th>33</th>\n",
       "      <td>GlobalHarm_4</td>\n",
       "      <td>GlobalHarm_5</td>\n",
       "      <td>0.861060</td>\n",
       "    </tr>\n",
       "    <tr>\n",
       "      <th>34</th>\n",
       "      <td>GlobalHarm_5</td>\n",
       "      <td>GlobalHarm_3</td>\n",
       "      <td>0.637552</td>\n",
       "    </tr>\n",
       "    <tr>\n",
       "      <th>35</th>\n",
       "      <td>GlobalHarm_5</td>\n",
       "      <td>GlobalHarm_4</td>\n",
       "      <td>0.861060</td>\n",
       "    </tr>\n",
       "  </tbody>\n",
       "</table>\n",
       "</div>"
      ],
      "text/plain": [
       "                 row            column      corr\n",
       "0         node_count        edge_count  0.842091\n",
       "1         node_count    positive_nodes  0.759642\n",
       "2         node_count    negative_nodes  0.738007\n",
       "3         node_count        link_solid  0.845163\n",
       "4         edge_count        node_count  0.842091\n",
       "5         edge_count    positive_nodes  0.692700\n",
       "6         edge_count    negative_nodes  0.607225\n",
       "7         edge_count        link_solid  0.964363\n",
       "8     positive_nodes        node_count  0.759642\n",
       "9     positive_nodes        edge_count  0.692700\n",
       "10    positive_nodes        link_solid  0.718000\n",
       "11    negative_nodes        node_count  0.738007\n",
       "12    negative_nodes        edge_count  0.607225\n",
       "13    negative_nodes        link_solid  0.604319\n",
       "14        link_solid        node_count  0.845163\n",
       "15        link_solid        edge_count  0.964363\n",
       "16        link_solid    positive_nodes  0.718000\n",
       "17        link_solid    negative_nodes  0.604319\n",
       "18    node_valence_1    node_valence_2  0.997517\n",
       "19    node_valence_2    node_valence_1  0.997517\n",
       "20           density   triadic_closure  0.696624\n",
       "21           density  central_node_val  0.647375\n",
       "22   triadic_closure           density  0.696624\n",
       "23  central_node_val           density  0.647375\n",
       "24              Aff6             Aff18  0.740150\n",
       "25             Aff18              Aff6  0.740150\n",
       "26         PartyComp       IndividComp  0.809675\n",
       "27       IndividComp         PartyComp  0.809675\n",
       "28      GlobalHarm_2      GlobalHarm_3  0.717919\n",
       "29      GlobalHarm_3      GlobalHarm_2  0.717919\n",
       "30      GlobalHarm_3      GlobalHarm_4  0.633472\n",
       "31      GlobalHarm_3      GlobalHarm_5  0.637552\n",
       "32      GlobalHarm_4      GlobalHarm_3  0.633472\n",
       "33      GlobalHarm_4      GlobalHarm_5  0.861060\n",
       "34      GlobalHarm_5      GlobalHarm_3  0.637552\n",
       "35      GlobalHarm_5      GlobalHarm_4  0.861060"
      ]
     },
     "execution_count": 103,
     "metadata": {},
     "output_type": "execute_result"
    }
   ],
   "source": [
    "corr_df"
   ]
  },
  {
   "cell_type": "code",
   "execution_count": 104,
   "metadata": {},
   "outputs": [
    {
     "data": {
      "text/plain": [
       "<matplotlib.axes._subplots.AxesSubplot at 0x7fc7da4998d0>"
      ]
     },
     "execution_count": 104,
     "metadata": {},
     "output_type": "execute_result"
    },
    {
     "data": {
      "image/png": "[encoded data removed]",
      "text/plain": [
       "<Figure size 1800x1080 with 2 Axes>"
      ]
     },
     "metadata": {
      "needs_background": "light"
     },
     "output_type": "display_data"
    }
   ],
   "source": [
    "import seaborn as sns\n",
    "plt.subplots(figsize=(25,15))\n",
    "sns.heatmap(correlation_matrix)"
   ]
  }
 ],
 "metadata": {
  "kernelspec": {
   "display_name": "Python 3",
   "language": "python",
   "name": "python3"
  },
  "language_info": {
   "codemirror_mode": {
    "name": "ipython",
    "version": 3
   },
   "file_extension": ".py",
   "mimetype": "text/x-python",
   "name": "python",
   "nbconvert_exporter": "python",
   "pygments_lexer": "ipython3",
   "version": "3.9.1"
  }
 },
 "nbformat": 4,
 "nbformat_minor": 4
}
